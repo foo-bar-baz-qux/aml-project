{
 "cells": [
  {
   "cell_type": "markdown",
   "metadata": {},
   "source": [
    "# Data Acquisition and Processing"
   ]
  },
  {
   "cell_type": "code",
   "execution_count": 1,
   "metadata": {
    "collapsed": true
   },
   "outputs": [],
   "source": [
    "%matplotlib inline\n",
    "\n",
    "import pandas as pd\n",
    "import numpy as np\n",
    "import matplotlib.pyplot as plt"
   ]
  },
  {
   "cell_type": "code",
   "execution_count": 21,
   "metadata": {
    "collapsed": false
   },
   "outputs": [],
   "source": [
    "# Get and process input data\n",
    "\n",
    "var = dict([ (1, ('WHITE',1)),(2, ('ALCHY',1)),(3, ('JUNKY',1)),(4, ('SUPER',1)),\n",
    "                (5, ('MARRIED',1)),(6, ('FELON',1)),(7, ('WORKREL',1)),(8, ('PROPTY',1)),\n",
    "                (9, ('PERSON',1)),(10, ('MALE',1)),(11, ('PRIORS',2)),(13, ('SCHOOL',2)),\n",
    "                (15, ('RULE',2)),(17, ('AGE',3)),(20, ('TSERVD',3)),\n",
    "                (23, ('FOLLOW',2)),(25, ('RECID',1)),(26, ('TIME',2)),(28, ('FILE',1)) ] )\n",
    "\n",
    "def cleanData(data):\n",
    "    res = []\n",
    "    cols = [x[1][0] for x in var.items()] # Get the column names\n",
    "    for line in data:\n",
    "        line = line.strip()\n",
    "        \n",
    "        curLine = []\n",
    "        for i in xrange(len(line)):\n",
    "            if i+1 not in var:\n",
    "                continue\n",
    "            name, sz = var[i+1]            \n",
    "            curLine.append(int(line[i:i+sz]))\n",
    "        \n",
    "        res.append(curLine)\n",
    "    \n",
    "    ret = pd.DataFrame(data=res, columns=cols)\n",
    "    ret = ret[ret.FILE != 3] # Remove incomplete data points\n",
    "    \n",
    "    # Remove some irrelevant columns\n",
    "    del ret['TIME']\n",
    "    del ret['FILE']\n",
    "    del ret['FOLLOW']\n",
    "    return ret\n",
    "    \n",
    "\n",
    "raw_1978 = open('data/1978.txt','rb').readlines()\n",
    "raw_1980 = open('data/1980.txt','rb').readlines()"
   ]
  },
  {
   "cell_type": "code",
   "execution_count": null,
   "metadata": {
    "collapsed": true
   },
   "outputs": [],
   "source": [
    "d1978 = cleanData(raw_1978)\n",
    "d1980 = cleanData(raw_1980)"
   ]
  },
  {
   "cell_type": "markdown",
   "metadata": {},
   "source": [
    "# Baseline Classifier"
   ]
  },
  {
   "cell_type": "code",
   "execution_count": 54,
   "metadata": {
    "collapsed": false
   },
   "outputs": [],
   "source": [
    "from __future__ import division\n",
    "\n",
    "def baseline(data, target):\n",
    "    score_baseline_1 = np.size(data[data[target] == 1][target].values) / np.size(data[target].values)\n",
    "    score_baseline_0 = np.size(data[data[target] == 0][target].values) / np.size(data[target].values)\n",
    "    print \"baseline classifier everyone to 0: \", int(score_baseline_0*100) , \"%\"\n",
    "    print \"baseline classifier everyone to 1: \", int(score_baseline_1*100) , \"%\"\n",
    "    return"
   ]
  },
  {
   "cell_type": "code",
   "execution_count": 55,
   "metadata": {
    "collapsed": false
   },
   "outputs": [
    {
     "name": "stdout",
     "output_type": "stream",
     "text": [
      "baseline classifier everyone to 0:  62 %\n",
      "baseline classifier everyone to 1:  37 %\n"
     ]
    }
   ],
   "source": [
    "baseline(d1978, 'RECID')"
   ]
  },
  {
   "cell_type": "markdown",
   "metadata": {
    "collapsed": true
   },
   "source": [
    "# Fit random forest"
   ]
  },
  {
   "cell_type": "code",
   "execution_count": 4,
   "metadata": {
    "collapsed": true
   },
   "outputs": [],
   "source": [
    "from sklearn.ensemble import RandomForestClassifier\n",
    "from sklearn.cross_validation import train_test_split"
   ]
  },
  {
   "cell_type": "code",
   "execution_count": 5,
   "metadata": {
    "collapsed": false
   },
   "outputs": [],
   "source": [
    "def score_random_forest(Xtrain, ytrain, Xtest, ytest, n_estimators=10, criterion='gini', max_features='auto'):\n",
    "    clf= RandomForestClassifier(n_estimators=n_estimators, criterion=criterion, max_features= max_features)\n",
    "    clf.fit(Xtrain, ytrain)\n",
    "    score_train = clf.score(Xtrain, ytrain)\n",
    "    score_test = clf.score(Xtest, ytest)\n",
    "    return score_train, score_test, clf.feature_importances_"
   ]
  },
  {
   "cell_type": "code",
   "execution_count": 13,
   "metadata": {
    "collapsed": false
   },
   "outputs": [],
   "source": [
    "def split(data, list_drop, target, test_size):\n",
    "    dtrain, dtest = train_test_split(data, test_size = 0.3)\n",
    "    Xtrain = dtrain.drop(list_drop, axis=1).values\n",
    "    ytrain = dtrain[target].values\n",
    "    Xtest = dtest.drop(list_drop, axis=1).values\n",
    "    ytest = dtest[target].values\n",
    "    return Xtrain, ytrain, Xtest, ytest   "
   ]
  },
  {
   "cell_type": "code",
   "execution_count": 27,
   "metadata": {
    "collapsed": false
   },
   "outputs": [],
   "source": [
    "def best_parameters(Xtrain, ytrain, Xtest, ytest, criterions, nb_trees, nb_features):\n",
    "\n",
    "    score_tab = pd.DataFrame(columns=['loss', 'nb_trees', 'nb_features', 'test_score', 'train_score', 'features_importance'])\n",
    "    counter = 0 \n",
    "\n",
    "    for loss in criterions:\n",
    "        for n_estimators in nb_trees:\n",
    "            for max_features in nb_features:\n",
    "                \n",
    "                score_train, score_test, features_weights = \\\n",
    "                score_random_forest(Xtrain, ytrain, Xtest, ytest, n_estimators=n_estimators, criterion=loss, max_features=max_features) \n",
    "                score_tab.loc[counter] = [loss, n_estimators, max_features, score_test, score_train, features_weights]\n",
    "                counter += 1\n",
    "\n",
    "    return score_tab"
   ]
  },
  {
   "cell_type": "code",
   "execution_count": 39,
   "metadata": {
    "collapsed": false
   },
   "outputs": [],
   "source": [
    "def classify_random_forest(data, list_drop, target, test_size=0.3, criterions = ['gini'], nb_trees=[10], nb_features = ['auto']):\n",
    "    Xtrain, ytrain, Xtest, ytest = split(data, list_drop, target, test_size)\n",
    "    scores =  best_parameters(Xtrain, ytrain, Xtest, ytest, criterions, nb_trees, nb_features)\n",
    "    return scores"
   ]
  },
  {
   "cell_type": "code",
   "execution_count": 73,
   "metadata": {
    "collapsed": false
   },
   "outputs": [],
   "source": [
    "criterions78 = ['gini', 'entropy']\n",
    "nb_trees78 = np.arange(25,100,5)\n",
    "nb_features78 = np.arange(1,11)\n",
    "test_size78 = 0.3"
   ]
  },
  {
   "cell_type": "code",
   "execution_count": 74,
   "metadata": {
    "collapsed": false
   },
   "outputs": [
    {
     "name": "stdout",
     "output_type": "stream",
     "text": [
      "   loss  nb_trees  nb_features  test_score  train_score  \\\n",
      "0  gini        25            1    0.629870     0.998453   \n",
      "1  gini        25            2    0.655123     0.997834   \n",
      "2  gini        25            3    0.648629     0.996597   \n",
      "3  gini        25            4    0.653680     0.996287   \n",
      "4  gini        25            5    0.643579     0.997215   \n",
      "\n",
      "                                 features_importance  \n",
      "0  [0.0288407455259, 0.0176101739353, 0.017940715...  \n",
      "1  [0.0285031408062, 0.0219435692384, 0.025879114...  \n",
      "2  [0.0275845979133, 0.0272248113247, 0.028572973...  \n",
      "3  [0.0269485614796, 0.0232298027705, 0.031098093...  \n",
      "4  [0.0301347004722, 0.0258963546188, 0.027420444...  \n",
      "Wall time: 3min 8s\n"
     ]
    }
   ],
   "source": [
    "%%time\n",
    "scores78 =  classify_random_forest(d1978, ['RECID'], 'RECID', test_size=test_size78, criterions=criterions78, nb_trees=nb_trees78, nb_features=nb_features78)\n",
    "print scores78.head()"
   ]
  },
  {
   "cell_type": "markdown",
   "metadata": {},
   "source": [
    "#### Save Data"
   ]
  },
  {
   "cell_type": "code",
   "execution_count": 75,
   "metadata": {
    "collapsed": false
   },
   "outputs": [],
   "source": [
    "# save file to /data/ folder\n",
    "file_path = \"./data/random_forest_scores78.csv\"\n",
    "scores78.to_json(path_or_buf= file_path)"
   ]
  },
  {
   "cell_type": "code",
   "execution_count": 76,
   "metadata": {
    "collapsed": false
   },
   "outputs": [],
   "source": [
    "# recover scores from /data/ folder\n",
    "#file_path = \"./data/random_forest_scores78.csv\"\n",
    "#scores78 = pd.read_json(file_path)\n",
    "#scores78.head(5)"
   ]
  },
  {
   "cell_type": "markdown",
   "metadata": {},
   "source": [
    "# Analysis"
   ]
  },
  {
   "cell_type": "code",
   "execution_count": 56,
   "metadata": {
    "collapsed": false
   },
   "outputs": [],
   "source": [
    "def relevant_features(scores, threshold = 0.985):\n",
    "    max_score = np.max(scores.test_score.values)\n",
    "    print \"max score on test set is: \", int(max_score*100), \"%\"\n",
    "    \n",
    "    #extract entries that pass a certain threshold\n",
    "    winner = scores[scores.test_score > max_score * threshold]\n",
    "    \n",
    "    # features used in the selection process\n",
    "    features_list = pd.DataFrame(columns=['WHITE', 'ALCHY', 'JUNKY', 'SUPER', 'MARRIED', 'FELON',\n",
    "       'WORKREL', 'PROPTY', 'PERSON', 'MALE', 'PRIORS', 'SCHOOL',\n",
    "       'RULE', 'AGE', 'TSERVD'])\n",
    "    \n",
    "    # create a dataframe with the importance coefficients for each feature\n",
    "    for i in xrange(len(winner.features_importance.values)):\n",
    "        features_list.loc[i] = winner.features_importance.values[i]\n",
    "    \n",
    "    return features_list, winner.drop('features_importance', axis=1)"
   ]
  },
  {
   "cell_type": "code",
   "execution_count": 77,
   "metadata": {
    "collapsed": false
   },
   "outputs": [
    {
     "name": "stdout",
     "output_type": "stream",
     "text": [
      "max score on test set is:  67 %\n",
      "we are including in top scores  7 % of the sample\n",
      "    loss  nb_trees  nb_features  test_score  train_score\n",
      "15  gini        30            6    0.663781     0.998144\n",
      "41  gini        45            2    0.667388     0.999381\n",
      "43  gini        45            4    0.663059     0.999072\n",
      "52  gini        50            3    0.668831     0.999381\n",
      "63  gini        55            4    0.663059     0.999072\n"
     ]
    }
   ],
   "source": [
    "features_weights78, top_scorers78 = relevant_features(scores78, threshold = 0.985)\n",
    "print \"we are including in top scores \", int(len(top_scorers78) / len(scores78) * 100) , \"% of the sample\"\n",
    "print top_scorers78.head(5)"
   ]
  },
  {
   "cell_type": "code",
   "execution_count": 78,
   "metadata": {
    "collapsed": false
   },
   "outputs": [
    {
     "data": {
      "image/png": "[encoded data removed]",
      "text/plain": [
       "<matplotlib.figure.Figure at 0x20570ba8>"
      ]
     },
     "metadata": {},
     "output_type": "display_data"
    }
   ],
   "source": [
    "plt.title(\"number of trees for top test scorers\")\n",
    "plt.hist(top_scorers78.nb_trees.values, bins=12, normed=True, color='b', alpha = 0.25)\n",
    "plt.show()"
   ]
  },
  {
   "cell_type": "code",
   "execution_count": 79,
   "metadata": {
    "collapsed": false,
    "scrolled": true
   },
   "outputs": [
    {
     "data": {
      "image/png": "[encoded data removed]",
      "text/plain": [
       "<matplotlib.figure.Figure at 0x20c25da0>"
      ]
     },
     "metadata": {},
     "output_type": "display_data"
    }
   ],
   "source": [
    "plt.title(\"number of features for top test scorers\")\n",
    "plt.hist(top_scorers78.nb_features.values, bins=10, normed=True, color='b', alpha = 0.25)\n",
    "plt.show()"
   ]
  },
  {
   "cell_type": "code",
   "execution_count": 80,
   "metadata": {
    "collapsed": false
   },
   "outputs": [
    {
     "name": "stdout",
     "output_type": "stream",
     "text": [
      "      WHITE     ALCHY     JUNKY     SUPER   MARRIED     FELON   WORKREL  \\\n",
      "0  0.032827  0.029487  0.028873  0.031956  0.025110  0.018349  0.031701   \n",
      "1  0.029813  0.021194  0.027384  0.028134  0.023055  0.018843  0.027395   \n",
      "2  0.029470  0.026872  0.029109  0.034130  0.024784  0.020364  0.032514   \n",
      "\n",
      "     PROPTY    PERSON      MALE    PRIORS    SCHOOL      RULE       AGE  \\\n",
      "0  0.022130  0.008581  0.012467  0.085216  0.111590  0.075605  0.267650   \n",
      "1  0.018332  0.009039  0.011196  0.097518  0.131260  0.086970  0.248290   \n",
      "2  0.021158  0.008651  0.012205  0.088316  0.117963  0.078697  0.253256   \n",
      "\n",
      "     TSERVD  \n",
      "0  0.218460  \n",
      "1  0.221579  \n",
      "2  0.222511  \n"
     ]
    }
   ],
   "source": [
    "print features_weights78.head(3)"
   ]
  },
  {
   "cell_type": "markdown",
   "metadata": {},
   "source": [
    "## We adjust the features"
   ]
  },
  {
   "cell_type": "code",
   "execution_count": 18,
   "metadata": {
    "collapsed": false
   },
   "outputs": [],
   "source": [
    "X78train_adjusted = d78train.drop(['PERSON', 'RECID', 'FELON', 'PROPTY', 'MALE'], axis=1).values\n",
    "X78test_adjusted = d78test.drop(['PERSON', 'RECID', 'FELON', 'PROPTY', 'MALE'], axis=1).values\n",
    "nb_trees_adjusted = np.arange(65,90,2)\n",
    "nb_features_adjusted = np.arange(4,7)"
   ]
  },
  {
   "cell_type": "code",
   "execution_count": 19,
   "metadata": {
    "collapsed": false
   },
   "outputs": [
    {
     "name": "stdout",
     "output_type": "stream",
     "text": [
      "Wall time: 58.9 s\n"
     ]
    }
   ],
   "source": [
    "%%time\n",
    "scores_adjusted =  best_parameters(X78train_adjusted, y78train, X78test_adjusted, y78test, criterions, nb_trees_adjusted , nb_features_adjusted)"
   ]
  },
  {
   "cell_type": "code",
   "execution_count": 23,
   "metadata": {
    "collapsed": false
   },
   "outputs": [],
   "source": [
    "def relevant_features_adjusted(scores_tab, threshold = 0.98):\n",
    "    max_score = np.max(scores_tab.test_score.values)\n",
    "    print \"max score on test set is: \", max_score\n",
    "    \n",
    "    #extract entries that pass a certain threshold\n",
    "    winner = scores_tab[scores_tab.test_score > max_score * threshold]\n",
    "    \n",
    "    # features used in the selection process\n",
    "    features_list = pd.DataFrame(columns=['WHITE', 'ALCHY', 'MARRIED', 'JUNKY', 'SUPER', 'WORKREL', 'PRIORS', 'SCHOOL',\n",
    "       'RULE', 'AGE', 'TSERVD'])\n",
    "    \n",
    "    # create a dataframe with the importance coefficients for each feature\n",
    "    for i in xrange(len(winner.features_importance.values)):\n",
    "        features_list.loc[i] = winner.features_importance.values[i]\n",
    "    \n",
    "    return features_list, winner.drop('features_importance', axis=1)"
   ]
  },
  {
   "cell_type": "code",
   "execution_count": 24,
   "metadata": {
    "collapsed": false
   },
   "outputs": [
    {
     "name": "stdout",
     "output_type": "stream",
     "text": [
      "max score on test set is:  0.67316017316\n",
      "we are including in top scores  15 % of the sample\n",
      "       loss  nb_trees  nb_features  test_score  train_score\n",
      "6      gini        69            4    0.667388     0.999381\n",
      "8      gini        69            6    0.666667     0.999381\n",
      "12     gini        73            4    0.670996     0.999381\n",
      "13     gini        73            5    0.666667     0.999381\n",
      "52  entropy        73            5    0.668831     0.999381\n"
     ]
    }
   ],
   "source": [
    "features_weights_adjusted, top_scorers_adjusted = relevant_features_adjusted(scores_adjusted, threshold = 0.99)\n",
    "print \"we are including in top scores \", int(len(top_scorers_adjusted) / len(scores_adjusted) * 100) , \"% of the sample\"\n",
    "print top_scorers_adjusted.head(5)"
   ]
  },
  {
   "cell_type": "code",
   "execution_count": 25,
   "metadata": {
    "collapsed": false
   },
   "outputs": [
    {
     "data": {
      "image/png": "[encoded data removed]",
      "text/plain": [
       "<matplotlib.figure.Figure at 0x1f5b5630>"
      ]
     },
     "metadata": {},
     "output_type": "display_data"
    }
   ],
   "source": [
    "plt.title(\"number of trees for top test scorers with reduced number of features\")\n",
    "plt.hist(top_scorers_adjusted.nb_trees.values, bins=10, normed=True, color='b', alpha = 0.25)\n",
    "plt.show()"
   ]
  },
  {
   "cell_type": "code",
   "execution_count": 22,
   "metadata": {
    "collapsed": false
   },
   "outputs": [
    {
     "name": "stdout",
     "output_type": "stream",
     "text": [
      "      WHITE     ALCHY   MARRIED     JUNKY     SUPER   WORKREL    PRIORS  \\\n",
      "0  0.031557  0.025421  0.032979  0.036523  0.025268  0.034421  0.087508   \n",
      "1  0.030122  0.024756  0.031666  0.036160  0.026289  0.034675  0.081925   \n",
      "2  0.032151  0.026203  0.031973  0.035802  0.025476  0.033800  0.080804   \n",
      "3  0.032388  0.025840  0.031920  0.036071  0.025078  0.033650  0.081021   \n",
      "4  0.029979  0.027587  0.031611  0.033370  0.025676  0.034664  0.088119   \n",
      "5  0.031541  0.025909  0.031469  0.036206  0.026172  0.034432  0.085270   \n",
      "6  0.031773  0.025244  0.029330  0.033498  0.024007  0.032964  0.082314   \n",
      "7  0.031007  0.025224  0.031031  0.035957  0.025351  0.035731  0.086739   \n",
      "8  0.032369  0.025705  0.032240  0.035576  0.026392  0.034099  0.080940   \n",
      "9  0.029495  0.025496  0.031784  0.035169  0.027047  0.033461  0.088346   \n",
      "\n",
      "     SCHOOL      RULE       AGE    TSERVD  \n",
      "0  0.124062  0.075538  0.288032  0.238690  \n",
      "1  0.123118  0.071212  0.295701  0.244376  \n",
      "2  0.123912  0.070063  0.298227  0.241588  \n",
      "3  0.122100  0.071820  0.299103  0.241009  \n",
      "4  0.127122  0.072911  0.286707  0.242252  \n",
      "5  0.124996  0.071299  0.293205  0.239501  \n",
      "6  0.123968  0.072440  0.302348  0.242114  \n",
      "7  0.124106  0.070909  0.293796  0.240148  \n",
      "8  0.120928  0.070516  0.298824  0.242412  \n",
      "9  0.124262  0.075184  0.290647  0.239111  \n"
     ]
    }
   ],
   "source": [
    "print features_weights_adjusted.head(10)"
   ]
  },
  {
   "cell_type": "markdown",
   "metadata": {
    "collapsed": true
   },
   "source": [
    "# 1980 Data set"
   ]
  },
  {
   "cell_type": "code",
   "execution_count": 69,
   "metadata": {
    "collapsed": false
   },
   "outputs": [
    {
     "name": "stdout",
     "output_type": "stream",
     "text": [
      "baseline classifier everyone to 0:  62 %\n",
      "baseline classifier everyone to 1:  37 %\n"
     ]
    }
   ],
   "source": [
    "baseline(d1980, 'RECID')"
   ]
  },
  {
   "cell_type": "code",
   "execution_count": 70,
   "metadata": {
    "collapsed": true
   },
   "outputs": [],
   "source": [
    "criterions80 = ['gini', 'entropy']\n",
    "nb_trees80 = np.arange(25,100,5)\n",
    "nb_features80 = np.arange(1,11)\n",
    "test_size80 = 0.3"
   ]
  },
  {
   "cell_type": "code",
   "execution_count": 71,
   "metadata": {
    "collapsed": false
   },
   "outputs": [
    {
     "name": "stdout",
     "output_type": "stream",
     "text": [
      "   loss  nb_trees  nb_features  test_score  train_score  \\\n",
      "0  gini        25            1    0.658730     0.996906   \n",
      "1  gini        25            2    0.653680     0.997525   \n",
      "2  gini        25            3    0.656566     0.998144   \n",
      "3  gini        25            4    0.663781     0.997215   \n",
      "4  gini        25            5    0.662338     0.996906   \n",
      "\n",
      "                                 features_importance  \n",
      "0  [0.0293151281543, 0.0198202298428, 0.019380087...  \n",
      "1  [0.0295571224992, 0.0204330961605, 0.025090676...  \n",
      "2  [0.0306417583296, 0.0235760566336, 0.029742428...  \n",
      "3  [0.0307308102894, 0.027874529283, 0.0312873361...  \n",
      "4  [0.0330484108152, 0.0270713640161, 0.029596994...  \n",
      "Wall time: 4min\n"
     ]
    }
   ],
   "source": [
    "%%time\n",
    "scores80 =  classify_random_forest(d1980, ['RECID'], 'RECID', test_size=test_size80, criterions=criterions80, nb_trees=nb_trees80, nb_features=nb_features80)\n",
    "print scores78.head(5)"
   ]
  },
  {
   "cell_type": "code",
   "execution_count": 81,
   "metadata": {
    "collapsed": true
   },
   "outputs": [],
   "source": [
    "# save file to /data/ folder\n",
    "file_path = \"./data/random_forest_scores80.csv\"\n",
    "scores80.to_json(path_or_buf= file_path)"
   ]
  },
  {
   "cell_type": "code",
   "execution_count": 105,
   "metadata": {
    "collapsed": false
   },
   "outputs": [
    {
     "name": "stdout",
     "output_type": "stream",
     "text": [
      "max score on test set is:  68 %\n",
      "we are including in top scores  170.0 % of the sample\n",
      "    loss  nb_trees  nb_features  test_score  train_score\n",
      "43  gini        45            4    0.677700     0.999502\n",
      "54  gini        50            5    0.672474     0.999004\n",
      "56  gini        50            7    0.671312     0.999751\n",
      "62  gini        55            3    0.670732     0.999751\n",
      "63  gini        55            4    0.673635     0.999751\n"
     ]
    }
   ],
   "source": [
    "features_weights80, top_scorers80 = relevant_features(scores80, threshold = 0.985)\n",
    "print \"we are including in top scores \", float(len(top_scorers80)) / len(scores) * 100 , \"% of the sample\"\n",
    "print top_scorers80.head(5)"
   ]
  },
  {
   "cell_type": "code",
   "execution_count": 106,
   "metadata": {
    "collapsed": false
   },
   "outputs": [
    {
     "data": {
      "image/png": "[encoded data removed]",
      "text/plain": [
       "<matplotlib.figure.Figure at 0x1f9f1320>"
      ]
     },
     "metadata": {},
     "output_type": "display_data"
    }
   ],
   "source": [
    "plt.title(\"number of trees for top test scorers 1980 dataset\")\n",
    "plt.hist(top_scorers80.nb_trees.values, bins=6, normed=True, color='b', alpha = 0.25)\n",
    "plt.show()"
   ]
  },
  {
   "cell_type": "code",
   "execution_count": 107,
   "metadata": {
    "collapsed": false
   },
   "outputs": [
    {
     "data": {
      "image/png": "[encoded data removed]",
      "text/plain": [
       "<matplotlib.figure.Figure at 0x205dbda0>"
      ]
     },
     "metadata": {},
     "output_type": "display_data"
    }
   ],
   "source": [
    "plt.title(\"number of features for top test scorers 1980 dataset\")\n",
    "plt.hist(top_scorers80.nb_features.values, bins=15, normed=True, color='b', alpha = 0.25)\n",
    "plt.show()"
   ]
  },
  {
   "cell_type": "code",
   "execution_count": 104,
   "metadata": {
    "collapsed": false
   },
   "outputs": [
    {
     "name": "stdout",
     "output_type": "stream",
     "text": [
      "max score on test set is:  65 %\n"
     ]
    },
    {
     "data": {
      "image/png": "[encoded data removed]",
      "text/plain": [
       "<matplotlib.figure.Figure at 0x205a6668>"
      ]
     },
     "metadata": {},
     "output_type": "display_data"
    }
   ],
   "source": [
    "%%time\n",
    "criterions = ['gini', 'entropy']\n",
    "nb_trees = np.arange(85,110,5)\n",
    "nb_features = [4,5,6]\n",
    "test_size = 0.3\n",
    "scores = classify_random_forest(d1980, ['RECID'], 'RECID', test_size=test_size, criterions=criterions, nb_trees=nb_trees, nb_features=nb_features)\n",
    "\n",
    "features_weights, top_scorers = relevant_features(scores, threshold = 0.985)\n",
    "plt.title(\"number of trees for top test scorers 1980 dataset\")\n",
    "plt.hist(top_scorers.nb_trees.values, bins=6, normed=True, color='b', alpha = 0.25)\n",
    "plt.show()"
   ]
  },
  {
   "cell_type": "markdown",
   "metadata": {
    "collapsed": true
   },
   "source": [
    "## Score by size of test set"
   ]
  },
  {
   "cell_type": "markdown",
   "metadata": {},
   "source": [
    "We will test 4,5,6 faetures for forest of 100 trees for several va"
   ]
  },
  {
   "cell_type": "code",
   "execution_count": 144,
   "metadata": {
    "collapsed": false
   },
   "outputs": [],
   "source": [
    "def top_test_scores(data, test_try, it = 10, threshold = 0.985, list_drop=['RECID'], target='RECID', criterions = ['gini', 'entropy'], nb_trees=[100], nb_features = [4,5,6]):\n",
    "    mean_score = []\n",
    "    mean_features = []\n",
    "    \n",
    "    for k in xrange(it):\n",
    "        scores = classify_random_forest(data, list_drop=list_drop, target=target, test_size=test_try, criterions = criterions, nb_trees=nb_trees, nb_features = nb_features)\n",
    "        best_score = np.max(scores.test_score.values)\n",
    "        top_scores = scores[scores.test_score > threshold * best_score].drop('features_importance', axis = 1).head()\n",
    "        mean_score.append(np.mean(top_scores.test_score))\n",
    "        mean_features.append(np.mean(top_scores.nb_features))\n",
    "    \n",
    "    return np.mean(mean_score), np.mean(mean_features)"
   ]
  },
  {
   "cell_type": "code",
   "execution_count": 149,
   "metadata": {
    "collapsed": false
   },
   "outputs": [],
   "source": [
    "def scores_by_test_size(data, test_list, it, threshold = 0.985, list_drop=['RECID'], target='RECID', criterions = ['gini', 'entropy'], nb_trees=[100], nb_features = [4,5,6]):\n",
    "    score_list = []\n",
    "    features_list = []\n",
    "    \n",
    "    for test_try in test_list:\n",
    "        mean_score, mean_features = top_test_scores(data, test_try, it, threshold = threshold, list_drop=list_drop, target=target, criterions = criterions, nb_trees=nb_trees, nb_features = nb_features)\n",
    "        score_list.append(mean_score)\n",
    "        features_list.append(mean_features)\n",
    "        print \"Done with test set of size: \", test_try, \"%\"\n",
    "    \n",
    "    return score_list, features_list"
   ]
  },
  {
   "cell_type": "code",
   "execution_count": 150,
   "metadata": {
    "collapsed": false
   },
   "outputs": [
    {
     "name": "stdout",
     "output_type": "stream",
     "text": [
      "Done with test set of size:  0.05 %\n",
      "Done with test set of size:  0.08 %\n",
      "Done with test set of size:  0.11 %\n",
      "Done with test set of size:  0.14 %\n",
      "Done with test set of size:  0.17 %\n",
      "Done with test set of size:  0.2 %\n",
      "Done with test set of size:  0.23 %\n",
      "Done with test set of size:  0.26 %\n",
      "Done with test set of size:  0.29 %\n",
      "Done with test set of size:  0.32 %\n",
      "Done with test set of size:  0.35 %\n",
      "Done with test set of size:  0.38 %\n",
      "Wall time: 41min 18s\n"
     ]
    }
   ],
   "source": [
    "%%time\n",
    "test_list = np.arange(0.05, 0.4 , 0.03)\n",
    "score_list, features_list = scores_by_test_size(d1978, np.arange(0.05, 0.4 , 0.03), 50)"
   ]
  },
  {
   "cell_type": "code",
   "execution_count": 152,
   "metadata": {
    "collapsed": false
   },
   "outputs": [],
   "source": [
    "import csv\n",
    "\n",
    "with open('./data/testscore80.csv', 'wb') as myfile:\n",
    "    wr = csv.writer(myfile, quoting=csv.QUOTE_ALL)\n",
    "    wr.writerow(score_list)\n",
    "    \n",
    "    \n",
    "with open('./data/featureslist.csv', 'wb') as myfile:\n",
    "    wr = csv.writer(myfile, quoting=csv.QUOTE_ALL)\n",
    "    wr.writerow(features_list)"
   ]
  },
  {
   "cell_type": "code",
   "execution_count": 158,
   "metadata": {
    "collapsed": false
   },
   "outputs": [
    {
     "data": {
      "image/png": "[encoded data removed]",
      "text/plain": [
       "<matplotlib.figure.Figure at 0x21c26278>"
      ]
     },
     "metadata": {},
     "output_type": "display_data"
    }
   ],
   "source": [
    "plt.plot(test_list, score_list)\n",
    "plt.xlabel(\"Test set as a fraction of the data set\")\n",
    "plt.ylabel(\"Average score on test set\")\n",
    "plt.title(\"Average score on test set by size of the test set for 50 simulations per fraction value\")\n",
    "plt.ylim(0.65,0.70)\n",
    "plt.show()"
   ]
  },
  {
   "cell_type": "code",
   "execution_count": 161,
   "metadata": {
    "collapsed": false
   },
   "outputs": [
    {
     "data": {
      "image/png": "[encoded data removed]",
      "text/plain": [
       "<matplotlib.figure.Figure at 0xba5c8d0>"
      ]
     },
     "metadata": {},
     "output_type": "display_data"
    }
   ],
   "source": [
    "plt.plot(test_list, features_list)\n",
    "plt.xlabel(\"Test set as a fraction of the data set\")\n",
    "plt.ylabel(\"Average number of features retained\")\n",
    "plt.title(\"Average number of features retained by size of the test set for 50 simulations per fraction value\")\n",
    "plt.ylim(4.7,5.2)\n",
    "plt.show()"
   ]
  },
  {
   "cell_type": "code",
   "execution_count": null,
   "metadata": {
    "collapsed": true
   },
   "outputs": [],
   "source": []
  }
 ],
 "metadata": {
  "kernelspec": {
   "display_name": "Python 2",
   "language": "python",
   "name": "python2"
  },
  "language_info": {
   "codemirror_mode": {
    "name": "ipython",
    "version": 2
   },
   "file_extension": ".py",
   "mimetype": "text/x-python",
   "name": "python",
   "nbconvert_exporter": "python",
   "pygments_lexer": "ipython2",
   "version": "2.7.10"
  }
 },
 "nbformat": 4,
 "nbformat_minor": 0
}
