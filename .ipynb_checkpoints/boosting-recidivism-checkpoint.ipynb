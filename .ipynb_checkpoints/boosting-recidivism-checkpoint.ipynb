{
 "cells": [
  {
   "cell_type": "markdown",
   "metadata": {},
   "source": [
    "# Data Acquisition and Processing"
   ]
  },
  {
   "cell_type": "code",
   "execution_count": 1,
   "metadata": {
    "collapsed": true
   },
   "outputs": [],
   "source": [
    "import pandas as pd\n",
    "import numpy as np"
   ]
  },
  {
   "cell_type": "code",
   "execution_count": 2,
   "metadata": {
    "collapsed": false
   },
   "outputs": [],
   "source": [
    "# Get and process input data\n",
    "\n",
    "var = dict([ (1, ('WHITE',1)),(2, ('ALCHY',1)),(3, ('JUNKY',1)),(4, ('SUPER',1)),\n",
    "                (5, ('MARRIED',1)),(6, ('FELON',1)),(7, ('WORKREL',1)),(8, ('PROPTY',1)),\n",
    "                (9, ('PERSON',1)),(10, ('MALE',1)),(11, ('PRIORS',2)),(13, ('SCHOOL',2)),\n",
    "                (15, ('RULE',2)),(17, ('AGE',3)),(20, ('TSERVD',3)),\n",
    "                (23, ('FOLLOW',2)),(25, ('RECID',1)),(26, ('TIME',2)),(28, ('FILE',1)) ] )\n",
    "\n",
    "def cleanData(data):\n",
    "    res = []\n",
    "    cols = [x[1][0] for x in var.items()] # Get the column names\n",
    "    for line in data:\n",
    "        line = line.strip()\n",
    "        \n",
    "        curLine = []\n",
    "        for i in xrange(len(line)):\n",
    "            if i+1 not in var:\n",
    "                continue\n",
    "            name, sz = var[i+1]            \n",
    "            curLine.append(int(line[i:i+sz]))\n",
    "        \n",
    "        res.append(curLine)\n",
    "    \n",
    "    ret = pd.DataFrame(data=res, columns=cols)\n",
    "    ret = ret[ret.FILE != 3] # Remove incomplete data points\n",
    "    \n",
    "    # Remove some irrelevant columns\n",
    "    del ret['TIME']\n",
    "    del ret['FILE']\n",
    "    del ret['FOLLOW']\n",
    "    return ret\n",
    "    \n",
    "\n",
    "raw_1978 = open('data/1978.txt','rb').readlines()\n",
    "raw_1980 = open('data/1980.txt','rb').readlines()\n",
    "\n",
    "d1978 = cleanData(raw_1978)\n",
    "d1980 = cleanData(raw_1980)"
   ]
  },
  {
   "cell_type": "markdown",
   "metadata": {},
   "source": [
    "# Baseline Classifier"
   ]
  },
  {
   "cell_type": "code",
   "execution_count": 3,
   "metadata": {
    "collapsed": false
   },
   "outputs": [
    {
     "name": "stdout",
     "output_type": "stream",
     "text": [
      "baseline classifier everyone to 0 0.627327847553\n",
      "baseline classifier everyone to 1 0.372672152447\n"
     ]
    }
   ],
   "source": [
    "from __future__ import division\n",
    "\n",
    "score_baseline_1 = np.size(d1978[d1978.RECID == 1].RECID.values) / np.size(d1978.RECID.values)\n",
    "score_baseline_0 = np.size(d1978[d1978.RECID == 0].RECID.values) / np.size(d1978.RECID.values)\n",
    "print \"baseline classifier everyone to 0\", score_baseline_0\n",
    "print \"baseline classifier everyone to 1\", score_baseline_1"
   ]
  },
  {
   "cell_type": "markdown",
   "metadata": {
    "collapsed": true
   },
   "source": [
    "# Random forest"
   ]
  },
  {
   "cell_type": "code",
   "execution_count": 4,
   "metadata": {
    "collapsed": false
   },
   "outputs": [],
   "source": [
    "from sklearn.ensemble import RandomForestClassifier\n",
    "from sklearn.cross_validation import train_test_split\n",
    "\n",
    "d78train, d78test = train_test_split(d1978, test_size = 0.1)\n",
    "X78train = d78train.drop('RECID', axis=1).values\n",
    "y78train = d78train.RECID.values\n",
    "X78test = d78test.drop('RECID', axis=1).values\n",
    "y78test = d78test.RECID.values"
   ]
  },
  {
   "cell_type": "code",
   "execution_count": 5,
   "metadata": {
    "collapsed": false
   },
   "outputs": [],
   "source": [
    "def score_random_forest(Xtrain, ytrain, Xtest, ytest, n_estimators=10, criterion='gini', max_features='auto'):\n",
    "    clf= RandomForestClassifier(n_estimators=n_estimators, criterion=criterion, max_features= max_features)\n",
    "    clf.fit(Xtrain, ytrain)\n",
    "    score_train = clf.score(Xtrain, ytrain)\n",
    "    score_test = clf.score(Xtest, ytest)\n",
    "    return score_train, score_test"
   ]
  },
  {
   "cell_type": "code",
   "execution_count": 6,
   "metadata": {
    "collapsed": false
   },
   "outputs": [
    {
     "name": "stdout",
     "output_type": "stream",
     "text": [
      "Train score with default parameters: 0.976660250241\n",
      "Test score with default parameters: 0.627705627706\n"
     ]
    }
   ],
   "source": [
    "a, b = score_random_forest(X78train, y78train, X78test, y78test)\n",
    "print \"Train score with default parameters:\", a\n",
    "print \"Test score with default parameters:\", b"
   ]
  },
  {
   "cell_type": "code",
   "execution_count": 7,
   "metadata": {
    "collapsed": false
   },
   "outputs": [],
   "source": [
    "criterions = ['gini', 'entropy']\n",
    "nb_trees = np.arange(1,100)\n",
    "nb_features = np.arange(1,11)"
   ]
  },
  {
   "cell_type": "code",
   "execution_count": 8,
   "metadata": {
    "collapsed": false
   },
   "outputs": [],
   "source": [
    "def best_parameters(Xtrain, ytrain, Xtest, ytest, criterions, nb_trees, nb_features):\n",
    "    \n",
    "    best_criterion = None\n",
    "    best_nb_trees = None\n",
    "    best_nb_features = None\n",
    "    score_tab = pd.DataFrame(columns=['loss', 'nb_trees', 'nb_features', 'test_score'])\n",
    "\n",
    "    counter = 0 \n",
    "\n",
    "    for loss in criterions:\n",
    "        for n_estimators in nb_trees:\n",
    "            for max_features in nb_features:\n",
    "\n",
    "                score_train, score_test = \\\n",
    "                score_random_forest(Xtrain, ytrain, Xtest, ytest, n_estimators=n_estimators, criterion=loss, max_features=max_features) \n",
    "                score_tab.loc[counter] = [loss, n_estimators, max_features, score_test]\n",
    "                counter += 1\n",
    "\n",
    "    return score_tab"
   ]
  },
  {
   "cell_type": "code",
   "execution_count": 10,
   "metadata": {
    "collapsed": false
   },
   "outputs": [
    {
     "name": "stdout",
     "output_type": "stream",
     "text": [
      "   loss  nb_trees  nb_features  test_score\n",
      "0  gini         1            1    0.625541\n",
      "1  gini         1            2    0.606061\n",
      "2  gini         1            3    0.586580\n",
      "3  gini         1            4    0.569264\n",
      "4  gini         1            5    0.582251\n",
      "Wall time: 17min 32s\n"
     ]
    }
   ],
   "source": [
    "%%time\n",
    "scores =  best_parameters(X78train, y78train, X78test, y78test, criterions, nb_trees , nb_features)\n",
    "print scores.head(5)"
   ]
  },
  {
   "cell_type": "code",
   "execution_count": 19,
   "metadata": {
    "collapsed": false
   },
   "outputs": [],
   "source": [
    "# save file to /data/ folder\n",
    "file_path = \"./data/random_forest_scores.csv\"\n",
    "scores.to_csv(path_or_buf= file_path, index=False)"
   ]
  },
  {
   "cell_type": "code",
   "execution_count": null,
   "metadata": {
    "collapsed": false
   },
   "outputs": [],
   "source": [
    "# recover scores from /data/ folder\n",
    "#file_path = \"./data/random_forest_scores.csv\"\n",
    "#scores = pd.DataFrame.from_csv(file_path, index_col=None)\n",
    "#scores.head(5)"
   ]
  },
  {
   "cell_type": "code",
   "execution_count": 20,
   "metadata": {
    "collapsed": false
   },
   "outputs": [
    {
     "data": {
      "text/html": [
       "<div>\n",
       "<table border=\"1\" class=\"dataframe\">\n",
       "  <thead>\n",
       "    <tr style=\"text-align: right;\">\n",
       "      <th></th>\n",
       "      <th>loss</th>\n",
       "      <th>nb_trees</th>\n",
       "      <th>nb_features</th>\n",
       "      <th>test_score</th>\n",
       "    </tr>\n",
       "  </thead>\n",
       "  <tbody>\n",
       "    <tr>\n",
       "      <th>421</th>\n",
       "      <td>gini</td>\n",
       "      <td>43</td>\n",
       "      <td>2</td>\n",
       "      <td>0.690476</td>\n",
       "    </tr>\n",
       "    <tr>\n",
       "      <th>873</th>\n",
       "      <td>gini</td>\n",
       "      <td>88</td>\n",
       "      <td>4</td>\n",
       "      <td>0.681818</td>\n",
       "    </tr>\n",
       "    <tr>\n",
       "      <th>1473</th>\n",
       "      <td>entropy</td>\n",
       "      <td>49</td>\n",
       "      <td>4</td>\n",
       "      <td>0.681818</td>\n",
       "    </tr>\n",
       "    <tr>\n",
       "      <th>1651</th>\n",
       "      <td>entropy</td>\n",
       "      <td>67</td>\n",
       "      <td>2</td>\n",
       "      <td>0.683983</td>\n",
       "    </tr>\n",
       "    <tr>\n",
       "      <th>1903</th>\n",
       "      <td>entropy</td>\n",
       "      <td>92</td>\n",
       "      <td>4</td>\n",
       "      <td>0.681818</td>\n",
       "    </tr>\n",
       "    <tr>\n",
       "      <th>1941</th>\n",
       "      <td>entropy</td>\n",
       "      <td>96</td>\n",
       "      <td>2</td>\n",
       "      <td>0.681818</td>\n",
       "    </tr>\n",
       "  </tbody>\n",
       "</table>\n",
       "</div>"
      ],
      "text/plain": [
       "         loss  nb_trees  nb_features  test_score\n",
       "421      gini        43            2    0.690476\n",
       "873      gini        88            4    0.681818\n",
       "1473  entropy        49            4    0.681818\n",
       "1651  entropy        67            2    0.683983\n",
       "1903  entropy        92            4    0.681818\n",
       "1941  entropy        96            2    0.681818"
      ]
     },
     "execution_count": 20,
     "metadata": {},
     "output_type": "execute_result"
    }
   ],
   "source": [
    "max_score = np.max(scores.test_score.values)\n",
    "winner = scores[scores.test_score > max_score * 0.985]\n",
    "winner"
   ]
  },
  {
   "cell_type": "code",
   "execution_count": null,
   "metadata": {
    "collapsed": true
   },
   "outputs": [],
   "source": []
  }
 ],
 "metadata": {
  "kernelspec": {
   "display_name": "Python 2",
   "language": "python",
   "name": "python2"
  },
  "language_info": {
   "codemirror_mode": {
    "name": "ipython",
    "version": 2
   },
   "file_extension": ".py",
   "mimetype": "text/x-python",
   "name": "python",
   "nbconvert_exporter": "python",
   "pygments_lexer": "ipython2",
   "version": "2.7.10"
  }
 },
 "nbformat": 4,
 "nbformat_minor": 0
}
