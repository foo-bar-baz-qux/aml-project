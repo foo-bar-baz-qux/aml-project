{
 "cells": [
  {
   "cell_type": "markdown",
   "metadata": {},
   "source": [
    "# Data Acquisition and Processing"
   ]
  },
  {
   "cell_type": "code",
   "execution_count": 2,
   "metadata": {
    "collapsed": true
   },
   "outputs": [],
   "source": [
    "%matplotlib inline\n",
    "\n",
    "import pandas as pd\n",
    "import numpy as np\n",
    "import matplotlib.pyplot as plt"
   ]
  },
  {
   "cell_type": "code",
   "execution_count": 3,
   "metadata": {
    "collapsed": false
   },
   "outputs": [],
   "source": [
    "# Get and process input data\n",
    "\n",
    "var = dict([ (1, ('WHITE',1)),(2, ('ALCHY',1)),(3, ('JUNKY',1)),(4, ('SUPER',1)),\n",
    "                (5, ('MARRIED',1)),(6, ('FELON',1)),(7, ('WORKREL',1)),(8, ('PROPTY',1)),\n",
    "                (9, ('PERSON',1)),(10, ('MALE',1)),(11, ('PRIORS',2)),(13, ('SCHOOL',2)),\n",
    "                (15, ('RULE',2)),(17, ('AGE',3)),(20, ('TSERVD',3)),\n",
    "                (23, ('FOLLOW',2)),(25, ('RECID',1)),(26, ('TIME',2)),(28, ('FILE',1)) ] )\n",
    "\n",
    "def cleanData(data):\n",
    "    res = []\n",
    "    cols = [x[1][0] for x in var.items()] # Get the column names\n",
    "    for line in data:\n",
    "        line = line.strip()\n",
    "        \n",
    "        curLine = []\n",
    "        for i in xrange(len(line)):\n",
    "            if i+1 not in var:\n",
    "                continue\n",
    "            name, sz = var[i+1]            \n",
    "            curLine.append(int(line[i:i+sz]))\n",
    "        \n",
    "        res.append(curLine)\n",
    "    \n",
    "    ret = pd.DataFrame(data=res, columns=cols)\n",
    "    ret = ret[ret.FILE != 3] # Remove incomplete data points\n",
    "    \n",
    "    # Remove some irrelevant columns\n",
    "    del ret['TIME']\n",
    "    del ret['FILE']\n",
    "    del ret['FOLLOW']\n",
    "    return ret\n",
    "    \n",
    "\n",
    "raw_1978 = open('data/1978.txt','rb').readlines()\n",
    "raw_1980 = open('data/1980.txt','rb').readlines()\n",
    "\n",
    "d1978 = cleanData(raw_1978)\n",
    "d1980 = cleanData(raw_1980)"
   ]
  },
  {
   "cell_type": "markdown",
   "metadata": {},
   "source": [
    "# Baseline Classifier"
   ]
  },
  {
   "cell_type": "code",
   "execution_count": 4,
   "metadata": {
    "collapsed": false
   },
   "outputs": [
    {
     "name": "stdout",
     "output_type": "stream",
     "text": [
      "baseline classifier everyone to 0:  62 %\n",
      "baseline classifier everyone to 1:  37 %\n"
     ]
    }
   ],
   "source": [
    "from __future__ import division\n",
    "\n",
    "score_baseline_1 = np.size(d1978[d1978.RECID == 1].RECID.values) / np.size(d1978.RECID.values)\n",
    "score_baseline_0 = np.size(d1978[d1978.RECID == 0].RECID.values) / np.size(d1978.RECID.values)\n",
    "print \"baseline classifier everyone to 0: \", int(score_baseline_0*100) , \"%\"\n",
    "print \"baseline classifier everyone to 1: \", int(score_baseline_1*100) , \"%\""
   ]
  },
  {
   "cell_type": "markdown",
   "metadata": {
    "collapsed": true
   },
   "source": [
    "# Random forest"
   ]
  },
  {
   "cell_type": "markdown",
   "metadata": {},
   "source": [
    "#### Fit model"
   ]
  },
  {
   "cell_type": "code",
   "execution_count": 5,
   "metadata": {
    "collapsed": false
   },
   "outputs": [],
   "source": [
    "from sklearn.ensemble import RandomForestClassifier\n",
    "from sklearn.cross_validation import train_test_split\n",
    "\n",
    "d78train, d78test = train_test_split(d1978, test_size = 0.3)\n",
    "X78train = d78train.drop('RECID', axis=1).values\n",
    "y78train = d78train.RECID.values\n",
    "X78test = d78test.drop('RECID', axis=1).values\n",
    "y78test = d78test.RECID.values"
   ]
  },
  {
   "cell_type": "code",
   "execution_count": 6,
   "metadata": {
    "collapsed": false
   },
   "outputs": [],
   "source": [
    "def score_random_forest(Xtrain, ytrain, Xtest, ytest, n_estimators=10, criterion='gini', max_features='auto'):\n",
    "    clf= RandomForestClassifier(n_estimators=n_estimators, criterion=criterion, max_features= max_features)\n",
    "    clf.fit(Xtrain, ytrain)\n",
    "    score_train = clf.score(Xtrain, ytrain)\n",
    "    score_test = clf.score(Xtest, ytest)\n",
    "    return score_train, score_test, clf.feature_importances_"
   ]
  },
  {
   "cell_type": "code",
   "execution_count": 7,
   "metadata": {
    "collapsed": false
   },
   "outputs": [
    {
     "name": "stdout",
     "output_type": "stream",
     "text": [
      "Train score with default parameters: 0.979888613861\n",
      "Test score with default parameters: 0.655844155844\n"
     ]
    }
   ],
   "source": [
    "a, b, clf = score_random_forest(X78train, y78train, X78test, y78test)\n",
    "print \"Train score with default parameters:\", a\n",
    "print \"Test score with default parameters:\", b"
   ]
  },
  {
   "cell_type": "code",
   "execution_count": 8,
   "metadata": {
    "collapsed": false
   },
   "outputs": [],
   "source": [
    "criterions = ['gini', 'entropy']\n",
    "nb_trees = np.arange(25,100,5)\n",
    "nb_features = np.arange(1,11)"
   ]
  },
  {
   "cell_type": "code",
   "execution_count": 9,
   "metadata": {
    "collapsed": false
   },
   "outputs": [],
   "source": [
    "def best_parameters(Xtrain, ytrain, Xtest, ytest, criterions, nb_trees, nb_features):\n",
    "\n",
    "    score_tab = pd.DataFrame(columns=['loss', 'nb_trees', 'nb_features', 'test_score', 'train_score', 'features_importance'])\n",
    "    counter = 0 \n",
    "\n",
    "    for loss in criterions:\n",
    "        for n_estimators in nb_trees:\n",
    "            for max_features in nb_features:\n",
    "                \n",
    "                score_train, score_test, features_weights = \\\n",
    "                score_random_forest(Xtrain, ytrain, Xtest, ytest, n_estimators=n_estimators, criterion=loss, max_features=max_features) \n",
    "                score_tab.loc[counter] = [loss, n_estimators, max_features, score_test, score_train, features_weights]\n",
    "                counter += 1\n",
    "\n",
    "    return score_tab"
   ]
  },
  {
   "cell_type": "code",
   "execution_count": 45,
   "metadata": {
    "collapsed": false
   },
   "outputs": [
    {
     "name": "stdout",
     "output_type": "stream",
     "text": [
      "      loss  nb_trees  nb_features  test_score  train_score  \\\n",
      "0     gini     10000            5    0.674603     0.999381   \n",
      "1  entropy     10000            5    0.674603     0.999381   \n",
      "\n",
      "                                 features_importance  \n",
      "0  [0.0309075385846, 0.0244703165007, 0.030358633...  \n",
      "1  [0.0305797865142, 0.0243134765459, 0.030900133...  \n",
      "Wall time: 5min 1s\n"
     ]
    }
   ],
   "source": [
    "%%time\n",
    "scores =  best_parameters(X78train, y78train, X78test, y78test, criterions, [10000] , [5])\n",
    "print scores.head(5)"
   ]
  },
  {
   "cell_type": "code",
   "execution_count": 10,
   "metadata": {
    "collapsed": false
   },
   "outputs": [
    {
     "name": "stdout",
     "output_type": "stream",
     "text": [
      "   loss  nb_trees  nb_features  test_score  train_score  \\\n",
      "0  gini        25            1    0.660173     0.996906   \n",
      "1  gini        25            2    0.669553     0.997215   \n",
      "2  gini        25            3    0.669553     0.997215   \n",
      "3  gini        25            4    0.663781     0.997215   \n",
      "4  gini        25            5    0.672439     0.998144   \n",
      "\n",
      "                                 features_importance  \n",
      "0  [0.0240879773299, 0.0202378041461, 0.018445413...  \n",
      "1  [0.0301845371794, 0.0216299763803, 0.024179428...  \n",
      "2  [0.0269262975884, 0.0224086691992, 0.029768352...  \n",
      "3  [0.0313793331865, 0.0274410363012, 0.029382370...  \n",
      "4  [0.0340285095375, 0.0254192853085, 0.030366553...  \n",
      "Wall time: 4min 53s\n"
     ]
    }
   ],
   "source": [
    "%%time\n",
    "scores =  best_parameters(X78train, y78train, X78test, y78test, criterions, nb_trees , nb_features)\n",
    "print scores.head(5)"
   ]
  },
  {
   "cell_type": "markdown",
   "metadata": {},
   "source": [
    "#### Save Data"
   ]
  },
  {
   "cell_type": "code",
   "execution_count": 11,
   "metadata": {
    "collapsed": false
   },
   "outputs": [],
   "source": [
    "# save file to /data/ folder\n",
    "file_path = \"./data/random_forest_scores.csv\"\n",
    "scores.to_json(path_or_buf= file_path)"
   ]
  },
  {
   "cell_type": "code",
   "execution_count": 12,
   "metadata": {
    "collapsed": false
   },
   "outputs": [],
   "source": [
    "# recover scores from /data/ folder\n",
    "#file_path = \"./data/random_forest_scores.csv\"\n",
    "#scores = pd.read_json(file_path)\n",
    "#scores.head(5)"
   ]
  },
  {
   "cell_type": "markdown",
   "metadata": {},
   "source": [
    "#### Analysis"
   ]
  },
  {
   "cell_type": "code",
   "execution_count": 13,
   "metadata": {
    "collapsed": false
   },
   "outputs": [],
   "source": [
    "def relevant_features(scores, threshold = 0.98):\n",
    "    max_score = np.max(scores.test_score.values)\n",
    "    print \"max score on test set is: \", int(max_score*100), \"%\"\n",
    "    \n",
    "    #extract entries that pass a certain threshold\n",
    "    winner = scores[scores.test_score > max_score * threshold]\n",
    "    \n",
    "    # features used in the selection process\n",
    "    features_list = pd.DataFrame(columns=['WHITE', 'ALCHY', 'JUNKY', 'SUPER', 'MARRIED', 'FELON',\n",
    "       'WORKREL', 'PROPTY', 'PERSON', 'MALE', 'PRIORS', 'SCHOOL',\n",
    "       'RULE', 'AGE', 'TSERVD'])\n",
    "    \n",
    "    # create a dataframe with the importance coefficients for each feature\n",
    "    for i in xrange(len(winner.features_importance.values)):\n",
    "        features_list.loc[i] = winner.features_importance.values[i]\n",
    "    \n",
    "    return features_list, winner.drop('features_importance', axis=1)"
   ]
  },
  {
   "cell_type": "code",
   "execution_count": 20,
   "metadata": {
    "collapsed": false
   },
   "outputs": [
    {
     "name": "stdout",
     "output_type": "stream",
     "text": [
      "max score on test set is:  68 %\n",
      "we are including in top scores  10 % of the sample\n",
      "    loss  nb_trees  nb_features  test_score  train_score\n",
      "23  gini        35            4    0.678932     0.998453\n",
      "25  gini        35            6    0.684704     0.998762\n",
      "32  gini        40            3    0.680375     0.998762\n",
      "34  gini        40            5    0.683261     0.999072\n",
      "36  gini        40            7    0.683261     0.998762\n"
     ]
    }
   ],
   "source": [
    "features_weights, top_scorers = relevant_features(scores, threshold = 0.985)\n",
    "print \"we are including in top scores \", int(len(top_scorers) / len(scores) * 100) , \"% of the sample\"\n",
    "print top_scorers.head(5)"
   ]
  },
  {
   "cell_type": "code",
   "execution_count": 42,
   "metadata": {
    "collapsed": false
   },
   "outputs": [
    {
     "data": {
      "image/png": "[encoded data removed]",
      "text/plain": [
       "<matplotlib.figure.Figure at 0x202bea58>"
      ]
     },
     "metadata": {},
     "output_type": "display_data"
    }
   ],
   "source": [
    "plt.title(\"number of trees for top test scorers\")\n",
    "plt.hist(top_scorers.nb_trees.values, bins=12, normed=True, color='b', alpha = 0.25)\n",
    "plt.show()"
   ]
  },
  {
   "cell_type": "code",
   "execution_count": 22,
   "metadata": {
    "collapsed": false,
    "scrolled": true
   },
   "outputs": [
    {
     "data": {
      "image/png": "[encoded data removed]",
      "text/plain": [
       "<matplotlib.figure.Figure at 0x1f7c3908>"
      ]
     },
     "metadata": {},
     "output_type": "display_data"
    }
   ],
   "source": [
    "plt.title(\"number of features for top test scorers\")\n",
    "plt.hist(top_scorers.nb_features.values, bins=15, normed=True, color='b', alpha = 0.25)\n",
    "plt.show()"
   ]
  },
  {
   "cell_type": "code",
   "execution_count": 17,
   "metadata": {
    "collapsed": false
   },
   "outputs": [
    {
     "name": "stdout",
     "output_type": "stream",
     "text": [
      "      WHITE     ALCHY     JUNKY     SUPER   MARRIED     FELON   WORKREL  \\\n",
      "0  0.027672  0.026039  0.030817  0.032681  0.025796  0.020389  0.031944   \n",
      "1  0.028776  0.025371  0.030955  0.032682  0.024949  0.020042  0.033548   \n",
      "2  0.034686  0.024705  0.030558  0.031941  0.025562  0.017471  0.030774   \n",
      "3  0.030396  0.023653  0.031681  0.032606  0.025916  0.019934  0.030916   \n",
      "4  0.032009  0.023567  0.029426  0.032413  0.026078  0.018147  0.031467   \n",
      "5  0.031879  0.025100  0.031197  0.032985  0.027000  0.018114  0.030303   \n",
      "6  0.028530  0.023039  0.028779  0.032112  0.025528  0.018485  0.031342   \n",
      "7  0.030530  0.024049  0.031362  0.032156  0.024907  0.019128  0.032126   \n",
      "8  0.029848  0.023189  0.028724  0.030323  0.023115  0.018587  0.029973   \n",
      "9  0.032315  0.024817  0.031617  0.032463  0.025431  0.020167  0.031411   \n",
      "\n",
      "     PROPTY    PERSON      MALE    PRIORS    SCHOOL      RULE       AGE  \\\n",
      "0  0.020870  0.010313  0.012501  0.076603  0.123440  0.071259  0.266270   \n",
      "1  0.019497  0.009766  0.012326  0.077637  0.125512  0.075875  0.260950   \n",
      "2  0.019516  0.008792  0.012404  0.080565  0.117973  0.067011  0.270926   \n",
      "3  0.019754  0.009066  0.012591  0.080913  0.119415  0.070901  0.262173   \n",
      "4  0.019139  0.009908  0.011266  0.086016  0.129421  0.077815  0.251935   \n",
      "5  0.019450  0.009185  0.011454  0.079468  0.120280  0.072121  0.262997   \n",
      "6  0.017021  0.008834  0.011404  0.090665  0.126119  0.080326  0.254446   \n",
      "7  0.019425  0.009012  0.012648  0.069296  0.122920  0.070476  0.278110   \n",
      "8  0.019094  0.009662  0.011342  0.085097  0.135233  0.073179  0.259579   \n",
      "9  0.019971  0.009374  0.012413  0.079517  0.125822  0.072236  0.261376   \n",
      "\n",
      "     TSERVD  \n",
      "0  0.223409  \n",
      "1  0.222114  \n",
      "2  0.227115  \n",
      "3  0.230083  \n",
      "4  0.221391  \n",
      "5  0.228467  \n",
      "6  0.223371  \n",
      "7  0.223855  \n",
      "8  0.223055  \n",
      "9  0.221068  \n"
     ]
    }
   ],
   "source": [
    "print features_weights.head(10)"
   ]
  },
  {
   "cell_type": "markdown",
   "metadata": {},
   "source": [
    "## We adjust the features"
   ]
  },
  {
   "cell_type": "code",
   "execution_count": 18,
   "metadata": {
    "collapsed": false
   },
   "outputs": [],
   "source": [
    "X78train_adjusted = d78train.drop(['PERSON', 'RECID', 'FELON', 'PROPTY', 'MALE'], axis=1).values\n",
    "X78test_adjusted = d78test.drop(['PERSON', 'RECID', 'FELON', 'PROPTY', 'MALE'], axis=1).values\n",
    "nb_trees_adjusted = np.arange(65,90,2)\n",
    "nb_features_adjusted = np.arange(4,7)"
   ]
  },
  {
   "cell_type": "code",
   "execution_count": 19,
   "metadata": {
    "collapsed": false
   },
   "outputs": [
    {
     "name": "stdout",
     "output_type": "stream",
     "text": [
      "Wall time: 58.9 s\n"
     ]
    }
   ],
   "source": [
    "%%time\n",
    "scores_adjusted =  best_parameters(X78train_adjusted, y78train, X78test_adjusted, y78test, criterions, nb_trees_adjusted , nb_features_adjusted)"
   ]
  },
  {
   "cell_type": "code",
   "execution_count": 23,
   "metadata": {
    "collapsed": false
   },
   "outputs": [],
   "source": [
    "def relevant_features_adjusted(scores_tab, threshold = 0.98):\n",
    "    max_score = np.max(scores_tab.test_score.values)\n",
    "    print \"max score on test set is: \", max_score\n",
    "    \n",
    "    #extract entries that pass a certain threshold\n",
    "    winner = scores_tab[scores_tab.test_score > max_score * threshold]\n",
    "    \n",
    "    # features used in the selection process\n",
    "    features_list = pd.DataFrame(columns=['WHITE', 'ALCHY', 'MARRIED', 'JUNKY', 'SUPER', 'WORKREL', 'PRIORS', 'SCHOOL',\n",
    "       'RULE', 'AGE', 'TSERVD'])\n",
    "    \n",
    "    # create a dataframe with the importance coefficients for each feature\n",
    "    for i in xrange(len(winner.features_importance.values)):\n",
    "        features_list.loc[i] = winner.features_importance.values[i]\n",
    "    \n",
    "    return features_list, winner.drop('features_importance', axis=1)"
   ]
  },
  {
   "cell_type": "code",
   "execution_count": 24,
   "metadata": {
    "collapsed": false
   },
   "outputs": [
    {
     "name": "stdout",
     "output_type": "stream",
     "text": [
      "max score on test set is:  0.67316017316\n",
      "we are including in top scores  15 % of the sample\n",
      "       loss  nb_trees  nb_features  test_score  train_score\n",
      "6      gini        69            4    0.667388     0.999381\n",
      "8      gini        69            6    0.666667     0.999381\n",
      "12     gini        73            4    0.670996     0.999381\n",
      "13     gini        73            5    0.666667     0.999381\n",
      "52  entropy        73            5    0.668831     0.999381\n"
     ]
    }
   ],
   "source": [
    "features_weights_adjusted, top_scorers_adjusted = relevant_features_adjusted(scores_adjusted, threshold = 0.99)\n",
    "print \"we are including in top scores \", int(len(top_scorers_adjusted) / len(scores_adjusted) * 100) , \"% of the sample\"\n",
    "print top_scorers_adjusted.head(5)"
   ]
  },
  {
   "cell_type": "code",
   "execution_count": 25,
   "metadata": {
    "collapsed": false
   },
   "outputs": [
    {
     "data": {
      "image/png": "[encoded data removed]",
      "text/plain": [
       "<matplotlib.figure.Figure at 0x1f5b5630>"
      ]
     },
     "metadata": {},
     "output_type": "display_data"
    }
   ],
   "source": [
    "plt.title(\"number of trees for top test scorers with reduced number of features\")\n",
    "plt.hist(top_scorers_adjusted.nb_trees.values, bins=10, normed=True, color='b', alpha = 0.25)\n",
    "plt.show()"
   ]
  },
  {
   "cell_type": "code",
   "execution_count": 22,
   "metadata": {
    "collapsed": false
   },
   "outputs": [
    {
     "name": "stdout",
     "output_type": "stream",
     "text": [
      "      WHITE     ALCHY   MARRIED     JUNKY     SUPER   WORKREL    PRIORS  \\\n",
      "0  0.031557  0.025421  0.032979  0.036523  0.025268  0.034421  0.087508   \n",
      "1  0.030122  0.024756  0.031666  0.036160  0.026289  0.034675  0.081925   \n",
      "2  0.032151  0.026203  0.031973  0.035802  0.025476  0.033800  0.080804   \n",
      "3  0.032388  0.025840  0.031920  0.036071  0.025078  0.033650  0.081021   \n",
      "4  0.029979  0.027587  0.031611  0.033370  0.025676  0.034664  0.088119   \n",
      "5  0.031541  0.025909  0.031469  0.036206  0.026172  0.034432  0.085270   \n",
      "6  0.031773  0.025244  0.029330  0.033498  0.024007  0.032964  0.082314   \n",
      "7  0.031007  0.025224  0.031031  0.035957  0.025351  0.035731  0.086739   \n",
      "8  0.032369  0.025705  0.032240  0.035576  0.026392  0.034099  0.080940   \n",
      "9  0.029495  0.025496  0.031784  0.035169  0.027047  0.033461  0.088346   \n",
      "\n",
      "     SCHOOL      RULE       AGE    TSERVD  \n",
      "0  0.124062  0.075538  0.288032  0.238690  \n",
      "1  0.123118  0.071212  0.295701  0.244376  \n",
      "2  0.123912  0.070063  0.298227  0.241588  \n",
      "3  0.122100  0.071820  0.299103  0.241009  \n",
      "4  0.127122  0.072911  0.286707  0.242252  \n",
      "5  0.124996  0.071299  0.293205  0.239501  \n",
      "6  0.123968  0.072440  0.302348  0.242114  \n",
      "7  0.124106  0.070909  0.293796  0.240148  \n",
      "8  0.120928  0.070516  0.298824  0.242412  \n",
      "9  0.124262  0.075184  0.290647  0.239111  \n"
     ]
    }
   ],
   "source": [
    "print features_weights_adjusted.head(10)"
   ]
  },
  {
   "cell_type": "markdown",
   "metadata": {
    "collapsed": true
   },
   "source": [
    "# 1980 Data set"
   ]
  },
  {
   "cell_type": "code",
   "execution_count": 27,
   "metadata": {
    "collapsed": true
   },
   "outputs": [],
   "source": [
    "d80train, d80test = train_test_split(d1980, test_size = 0.3)\n",
    "X80train = d80train.drop('RECID', axis=1).values\n",
    "y80train = d80train.RECID.values\n",
    "X80test = d80test.drop('RECID', axis=1).values\n",
    "y80test = d80test.RECID.values"
   ]
  },
  {
   "cell_type": "code",
   "execution_count": 26,
   "metadata": {
    "collapsed": false
   },
   "outputs": [
    {
     "name": "stdout",
     "output_type": "stream",
     "text": [
      "baseline classifier everyone to 0:  62 %\n",
      "baseline classifier everyone to 1:  37 %\n"
     ]
    }
   ],
   "source": [
    "score_baseline_1 = np.size(d1980[d1980.RECID == 1].RECID.values) / np.size(d1980.RECID.values)\n",
    "score_baseline_0 = np.size(d1980[d1980.RECID == 0].RECID.values) / np.size(d1980.RECID.values)\n",
    "print \"baseline classifier everyone to 0: \", int(score_baseline_0*100) , \"%\"\n",
    "print \"baseline classifier everyone to 1: \", int(score_baseline_1*100) , \"%\""
   ]
  },
  {
   "cell_type": "code",
   "execution_count": 28,
   "metadata": {
    "collapsed": true
   },
   "outputs": [],
   "source": [
    "criterions = ['gini', 'entropy']\n",
    "nb_trees = np.arange(25,100,5)\n",
    "nb_features = np.arange(1,11)"
   ]
  },
  {
   "cell_type": "code",
   "execution_count": 31,
   "metadata": {
    "collapsed": false
   },
   "outputs": [
    {
     "name": "stdout",
     "output_type": "stream",
     "text": [
      "   loss  nb_trees  nb_features  test_score  train_score  \\\n",
      "0  gini        25            1    0.660173     0.996906   \n",
      "1  gini        25            2    0.669553     0.997215   \n",
      "2  gini        25            3    0.669553     0.997215   \n",
      "3  gini        25            4    0.663781     0.997215   \n",
      "4  gini        25            5    0.672439     0.998144   \n",
      "\n",
      "                                 features_importance  \n",
      "0  [0.0240879773299, 0.0202378041461, 0.018445413...  \n",
      "1  [0.0301845371794, 0.0216299763803, 0.024179428...  \n",
      "2  [0.0269262975884, 0.0224086691992, 0.029768352...  \n",
      "3  [0.0313793331865, 0.0274410363012, 0.029382370...  \n",
      "4  [0.0340285095375, 0.0254192853085, 0.030366553...  \n",
      "Wall time: 4min 8s\n"
     ]
    }
   ],
   "source": [
    "%%time\n",
    "scores80 =  best_parameters(X80train, y80train, X80test, y80test, criterions, nb_trees , nb_features)\n",
    "print scores.head(5)"
   ]
  },
  {
   "cell_type": "code",
   "execution_count": 32,
   "metadata": {
    "collapsed": true
   },
   "outputs": [],
   "source": [
    "# save file to /data/ folder\n",
    "file_path = \"./data/random_forest_scores.csv\"\n",
    "scores80.to_json(path_or_buf= file_path)"
   ]
  },
  {
   "cell_type": "code",
   "execution_count": 37,
   "metadata": {
    "collapsed": false
   },
   "outputs": [
    {
     "name": "stdout",
     "output_type": "stream",
     "text": [
      "max score on test set is:  66 %\n",
      "we are including in top scores  16.3333333333 % of the sample\n",
      "    loss  nb_trees  nb_features  test_score  train_score\n",
      "23  gini        35            4    0.678932     0.998453\n",
      "25  gini        35            6    0.684704     0.998762\n",
      "32  gini        40            3    0.680375     0.998762\n",
      "34  gini        40            5    0.683261     0.999072\n",
      "36  gini        40            7    0.683261     0.998762\n"
     ]
    }
   ],
   "source": [
    "features_weights80, top_scorers80 = relevant_features(scores80, threshold = 0.985)\n",
    "print \"we are including in top scores \", float(len(top_scorers80)) / len(scores) * 100 , \"% of the sample\"\n",
    "print top_scorers.head(5)"
   ]
  },
  {
   "cell_type": "code",
   "execution_count": 34,
   "metadata": {
    "collapsed": false
   },
   "outputs": [
    {
     "data": {
      "image/png": "[encoded data removed]",
      "text/plain": [
       "<matplotlib.figure.Figure at 0x1fdf28d0>"
      ]
     },
     "metadata": {},
     "output_type": "display_data"
    }
   ],
   "source": [
    "plt.title(\"number of trees for top test scorers\")\n",
    "plt.hist(top_scorers80.nb_trees.values, bins=6, normed=True, color='b', alpha = 0.25)\n",
    "plt.show()"
   ]
  },
  {
   "cell_type": "code",
   "execution_count": 35,
   "metadata": {
    "collapsed": false
   },
   "outputs": [
    {
     "data": {
      "image/png": "[encoded data removed]",
      "text/plain": [
       "<matplotlib.figure.Figure at 0x1f5ccc88>"
      ]
     },
     "metadata": {},
     "output_type": "display_data"
    }
   ],
   "source": [
    "plt.title(\"number of features for top test scorers\")\n",
    "plt.hist(top_scorers80.nb_features.values, bins=15, normed=True, color='b', alpha = 0.25)\n",
    "plt.show()"
   ]
  },
  {
   "cell_type": "code",
   "execution_count": null,
   "metadata": {
    "collapsed": true
   },
   "outputs": [],
   "source": []
  }
 ],
 "metadata": {
  "kernelspec": {
   "display_name": "Python 2",
   "language": "python",
   "name": "python2"
  },
  "language_info": {
   "codemirror_mode": {
    "name": "ipython",
    "version": 2
   },
   "file_extension": ".py",
   "mimetype": "text/x-python",
   "name": "python",
   "nbconvert_exporter": "python",
   "pygments_lexer": "ipython2",
   "version": "2.7.10"
  }
 },
 "nbformat": 4,
 "nbformat_minor": 0
}
