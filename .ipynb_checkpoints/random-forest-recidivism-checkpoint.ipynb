{
 "cells": [
  {
   "cell_type": "markdown",
   "metadata": {},
   "source": [
    "# Data Acquisition and Processing"
   ]
  },
  {
   "cell_type": "code",
   "execution_count": 1,
   "metadata": {
    "collapsed": true
   },
   "outputs": [],
   "source": [
    "%matplotlib inline\n",
    "\n",
    "import pandas as pd\n",
    "import numpy as np\n",
    "import matplotlib.pyplot as plt"
   ]
  },
  {
   "cell_type": "code",
   "execution_count": 2,
   "metadata": {
    "collapsed": false
   },
   "outputs": [],
   "source": [
    "# Get and process input data\n",
    "\n",
    "var = dict([ (1, ('WHITE',1)),(2, ('ALCHY',1)),(3, ('JUNKY',1)),(4, ('SUPER',1)),\n",
    "                (5, ('MARRIED',1)),(6, ('FELON',1)),(7, ('WORKREL',1)),(8, ('PROPTY',1)),\n",
    "                (9, ('PERSON',1)),(10, ('MALE',1)),(11, ('PRIORS',2)),(13, ('SCHOOL',2)),\n",
    "                (15, ('RULE',2)),(17, ('AGE',3)),(20, ('TSERVD',3)),\n",
    "                (23, ('FOLLOW',2)),(25, ('RECID',1)),(26, ('TIME',2)),(28, ('FILE',1)) ] )\n",
    "\n",
    "def cleanData(data):\n",
    "    res = []\n",
    "    cols = [x[1][0] for x in var.items()] # Get the column names\n",
    "    for line in data:\n",
    "        line = line.strip()\n",
    "        \n",
    "        curLine = []\n",
    "        for i in xrange(len(line)):\n",
    "            if i+1 not in var:\n",
    "                continue\n",
    "            name, sz = var[i+1]            \n",
    "            curLine.append(int(line[i:i+sz]))\n",
    "        \n",
    "        res.append(curLine)\n",
    "    \n",
    "    ret = pd.DataFrame(data=res, columns=cols)\n",
    "    ret = ret[ret.FILE != 3] # Remove incomplete data points\n",
    "    \n",
    "    # Remove some irrelevant columns\n",
    "    del ret['TIME']\n",
    "    del ret['FILE']\n",
    "    del ret['FOLLOW']\n",
    "    return ret\n",
    "    \n",
    "\n",
    "raw_1978 = open('data/1978.txt','rb').readlines()\n",
    "raw_1980 = open('data/1980.txt','rb').readlines()\n",
    "\n",
    "d1978 = cleanData(raw_1978)\n",
    "d1980 = cleanData(raw_1980)"
   ]
  },
  {
   "cell_type": "markdown",
   "metadata": {},
   "source": [
    "# Baseline Classifier"
   ]
  },
  {
   "cell_type": "code",
   "execution_count": 3,
   "metadata": {
    "collapsed": false
   },
   "outputs": [
    {
     "name": "stdout",
     "output_type": "stream",
     "text": [
      "baseline classifier everyone to 0:  62 %\n",
      "baseline classifier everyone to 1:  37 %\n"
     ]
    }
   ],
   "source": [
    "from __future__ import division\n",
    "\n",
    "score_baseline_1 = np.size(d1978[d1978.RECID == 1].RECID.values) / np.size(d1978.RECID.values)\n",
    "score_baseline_0 = np.size(d1978[d1978.RECID == 0].RECID.values) / np.size(d1978.RECID.values)\n",
    "print \"baseline classifier everyone to 0: \", int(score_baseline_0*100) , \"%\"\n",
    "print \"baseline classifier everyone to 1: \", int(score_baseline_1*100) , \"%\""
   ]
  },
  {
   "cell_type": "markdown",
   "metadata": {
    "collapsed": true
   },
   "source": [
    "# Random forest"
   ]
  },
  {
   "cell_type": "markdown",
   "metadata": {},
   "source": [
    "#### Fit model"
   ]
  },
  {
   "cell_type": "code",
   "execution_count": 4,
   "metadata": {
    "collapsed": false
   },
   "outputs": [],
   "source": [
    "from sklearn.ensemble import RandomForestClassifier\n",
    "from sklearn.cross_validation import train_test_split\n",
    "\n",
    "d78train, d78test = train_test_split(d1978, test_size = 0.3)\n",
    "X78train = d78train.drop('RECID', axis=1).values\n",
    "y78train = d78train.RECID.values\n",
    "X78test = d78test.drop('RECID', axis=1).values\n",
    "y78test = d78test.RECID.values"
   ]
  },
  {
   "cell_type": "code",
   "execution_count": 5,
   "metadata": {
    "collapsed": false
   },
   "outputs": [],
   "source": [
    "def score_random_forest(Xtrain, ytrain, Xtest, ytest, n_estimators=10, criterion='gini', max_features='auto'):\n",
    "    clf= RandomForestClassifier(n_estimators=n_estimators, criterion=criterion, max_features= max_features)\n",
    "    clf.fit(Xtrain, ytrain)\n",
    "    score_train = clf.score(Xtrain, ytrain)\n",
    "    score_test = clf.score(Xtest, ytest)\n",
    "    return score_train, score_test, clf.feature_importances_"
   ]
  },
  {
   "cell_type": "code",
   "execution_count": 6,
   "metadata": {
    "collapsed": false
   },
   "outputs": [
    {
     "name": "stdout",
     "output_type": "stream",
     "text": [
      "Train score with default parameters: 0.969059405941\n",
      "Test score with default parameters: 0.643578643579\n"
     ]
    }
   ],
   "source": [
    "a, b, clf = score_random_forest(X78train, y78train, X78test, y78test)\n",
    "print \"Train score with default parameters:\", a\n",
    "print \"Test score with default parameters:\", b"
   ]
  },
  {
   "cell_type": "code",
   "execution_count": 7,
   "metadata": {
    "collapsed": false
   },
   "outputs": [],
   "source": [
    "criterions = ['gini', 'entropy']\n",
    "nb_trees = np.arange(25,100,5)\n",
    "nb_features = np.arange(1,11)"
   ]
  },
  {
   "cell_type": "code",
   "execution_count": 8,
   "metadata": {
    "collapsed": false
   },
   "outputs": [],
   "source": [
    "def best_parameters(Xtrain, ytrain, Xtest, ytest, criterions, nb_trees, nb_features):\n",
    "\n",
    "    score_tab = pd.DataFrame(columns=['loss', 'nb_trees', 'nb_features', 'test_score', 'train_score', 'features_importance'])\n",
    "    counter = 0 \n",
    "\n",
    "    for loss in criterions:\n",
    "        for n_estimators in nb_trees:\n",
    "            for max_features in nb_features:\n",
    "                \n",
    "                score_train, score_test, features_weights = \\\n",
    "                score_random_forest(Xtrain, ytrain, Xtest, ytest, n_estimators=n_estimators, criterion=loss, max_features=max_features) \n",
    "                score_tab.loc[counter] = [loss, n_estimators, max_features, score_test, score_train, features_weights]\n",
    "                counter += 1\n",
    "\n",
    "    return score_tab"
   ]
  },
  {
   "cell_type": "code",
   "execution_count": 9,
   "metadata": {
    "collapsed": false
   },
   "outputs": [
    {
     "name": "stdout",
     "output_type": "stream",
     "text": [
      "   loss  nb_trees  nb_features  test_score  train_score  \\\n",
      "0  gini        25            1    0.634921     0.998453   \n",
      "1  gini        25            2    0.644300     0.998144   \n",
      "2  gini        25            3    0.663059     0.997525   \n",
      "3  gini        25            4    0.663781     0.996906   \n",
      "4  gini        25            5    0.651515     0.997834   \n",
      "\n",
      "                                 features_importance  \n",
      "0  [0.0296018666491, 0.0197347616825, 0.021878430...  \n",
      "1  [0.0263245469328, 0.0206701400033, 0.026994802...  \n",
      "2  [0.0269108328658, 0.0232325473544, 0.030262213...  \n",
      "3  [0.0287830121631, 0.0241314485127, 0.033438272...  \n",
      "4  [0.0304268900943, 0.0239922721173, 0.031811858...  \n",
      "Wall time: 2min 5s\n"
     ]
    }
   ],
   "source": [
    "%%time\n",
    "scores =  best_parameters(X78train, y78train, X78test, y78test, criterions, nb_trees , nb_features)\n",
    "print scores.head(5)"
   ]
  },
  {
   "cell_type": "markdown",
   "metadata": {},
   "source": [
    "#### Save Data"
   ]
  },
  {
   "cell_type": "code",
   "execution_count": 10,
   "metadata": {
    "collapsed": false
   },
   "outputs": [],
   "source": [
    "# save file to /data/ folder\n",
    "file_path = \"./data/random_forest_scores.csv\"\n",
    "scores.to_json(path_or_buf= file_path)"
   ]
  },
  {
   "cell_type": "code",
   "execution_count": 11,
   "metadata": {
    "collapsed": false
   },
   "outputs": [],
   "source": [
    "# recover scores from /data/ folder\n",
    "#file_path = \"./data/random_forest_scores.csv\"\n",
    "#scores = pd.read_json(file_path)\n",
    "#scores.head(5)"
   ]
  },
  {
   "cell_type": "markdown",
   "metadata": {},
   "source": [
    "#### Analysis"
   ]
  },
  {
   "cell_type": "code",
   "execution_count": 12,
   "metadata": {
    "collapsed": false
   },
   "outputs": [],
   "source": [
    "def relevant_features(scores, threshold = 0.98):\n",
    "    max_score = np.max(scores.test_score.values)\n",
    "    print \"max score on test set is: \", int(max_score*100), \"%\"\n",
    "    \n",
    "    #extract entries that pass a certain threshold\n",
    "    winner = scores[scores.test_score > max_score * threshold]\n",
    "    \n",
    "    # features used in the selection process\n",
    "    features_list = pd.DataFrame(columns=['WHITE', 'ALCHY', 'JUNKY', 'SUPER', 'MARRIED', 'FELON',\n",
    "       'WORKREL', 'PROPTY', 'PERSON', 'MALE', 'PRIORS', 'SCHOOL',\n",
    "       'RULE', 'AGE', 'TSERVD'])\n",
    "    \n",
    "    # create a dataframe with the importance coefficients for each feature\n",
    "    for i in xrange(len(winner.features_importance.values)):\n",
    "        features_list.loc[i] = winner.features_importance.values[i]\n",
    "    \n",
    "    return features_list, winner.drop('features_importance', axis=1)"
   ]
  },
  {
   "cell_type": "code",
   "execution_count": 13,
   "metadata": {
    "collapsed": false
   },
   "outputs": [
    {
     "name": "stdout",
     "output_type": "stream",
     "text": [
      "max score on test set is:  68 %\n",
      "we are including in top scores  4 % of the sample\n",
      "    loss  nb_trees  nb_features  test_score  train_score\n",
      "12  gini        30            3    0.678932     0.998144\n",
      "17  gini        30            8    0.676768     0.998144\n",
      "18  gini        30            9    0.682540     0.997525\n",
      "49  gini        45           10    0.676768     0.999691\n",
      "64  gini        55            5    0.680375     0.999381\n"
     ]
    }
   ],
   "source": [
    "features_weights, top_scorers = relevant_features(scores, threshold = 0.99)\n",
    "print \"we are including in top scores \", int(len(top_scorers) / len(scores) * 100) , \"% of the sample\"\n",
    "print top_scorers.head(5)"
   ]
  },
  {
   "cell_type": "code",
   "execution_count": 14,
   "metadata": {
    "collapsed": false
   },
   "outputs": [
    {
     "data": {
      "image/png": "[encoded data removed]",
      "text/plain": [
       "<matplotlib.figure.Figure at 0x1f2bd518>"
      ]
     },
     "metadata": {},
     "output_type": "display_data"
    }
   ],
   "source": [
    "plt.title(\"number of trees for top test scorers\")\n",
    "plt.hist(top_scorers.nb_trees.values, bins=6, normed=True, color='b', alpha = 0.25)\n",
    "plt.show()"
   ]
  },
  {
   "cell_type": "code",
   "execution_count": 15,
   "metadata": {
    "collapsed": false,
    "scrolled": true
   },
   "outputs": [
    {
     "data": {
      "image/png": "[encoded data removed]",
      "text/plain": [
       "<matplotlib.figure.Figure at 0x1f95dac8>"
      ]
     },
     "metadata": {},
     "output_type": "display_data"
    }
   ],
   "source": [
    "plt.title(\"number of features for top test scorers\")\n",
    "plt.hist(top_scorers.nb_features.values, bins=15, normed=True, color='b', alpha = 0.25)\n",
    "plt.show()"
   ]
  },
  {
   "cell_type": "code",
   "execution_count": 16,
   "metadata": {
    "collapsed": false
   },
   "outputs": [
    {
     "name": "stdout",
     "output_type": "stream",
     "text": [
      "      WHITE     ALCHY     JUNKY     SUPER   MARRIED     FELON   WORKREL  \\\n",
      "0  0.027517  0.024553  0.031073  0.029900  0.024952  0.019536  0.032365   \n",
      "1  0.028669  0.024696  0.031800  0.035040  0.025871  0.018792  0.031779   \n",
      "2  0.028391  0.023969  0.030136  0.034847  0.023118  0.018182  0.030800   \n",
      "3  0.027213  0.025403  0.028163  0.034442  0.024188  0.017522  0.031006   \n",
      "4  0.034404  0.025143  0.030793  0.032348  0.024437  0.019356  0.033120   \n",
      "5  0.031759  0.024621  0.029114  0.032252  0.024385  0.018337  0.030937   \n",
      "6  0.028882  0.024487  0.030300  0.033945  0.024406  0.020125  0.033848   \n",
      "7  0.029502  0.022627  0.031535  0.033946  0.024409  0.020429  0.032388   \n",
      "8  0.028472  0.024248  0.030492  0.031799  0.024775  0.019704  0.031595   \n",
      "9  0.029849  0.025558  0.030795  0.032546  0.023775  0.020864  0.033821   \n",
      "\n",
      "     PROPTY    PERSON      MALE    PRIORS    SCHOOL      RULE       AGE  \\\n",
      "0  0.018548  0.009000  0.012362  0.091326  0.123269  0.078689  0.255646   \n",
      "1  0.020229  0.007950  0.012305  0.078611  0.116475  0.066473  0.278290   \n",
      "2  0.019708  0.009841  0.011944  0.076150  0.113123  0.069771  0.279885   \n",
      "3  0.020145  0.008467  0.011991  0.077666  0.111822  0.065983  0.289466   \n",
      "4  0.019277  0.009685  0.011946  0.084251  0.118805  0.069503  0.266725   \n",
      "5  0.019025  0.008957  0.012588  0.082041  0.115434  0.066179  0.276677   \n",
      "6  0.020059  0.009473  0.012328  0.083413  0.116332  0.068574  0.271220   \n",
      "7  0.021168  0.009368  0.012703  0.082644  0.128550  0.071151  0.263647   \n",
      "8  0.019328  0.010117  0.013326  0.086702  0.127013  0.075640  0.256663   \n",
      "9  0.020223  0.009359  0.011873  0.076270  0.123106  0.069319  0.271273   \n",
      "\n",
      "     TSERVD  \n",
      "0  0.221261  \n",
      "1  0.223021  \n",
      "2  0.230135  \n",
      "3  0.226523  \n",
      "4  0.220207  \n",
      "5  0.227696  \n",
      "6  0.222610  \n",
      "7  0.215934  \n",
      "8  0.220127  \n",
      "9  0.221370  \n"
     ]
    }
   ],
   "source": [
    "print features_weights.head(10)"
   ]
  },
  {
   "cell_type": "markdown",
   "metadata": {},
   "source": [
    "## We adjust the features"
   ]
  },
  {
   "cell_type": "code",
   "execution_count": 17,
   "metadata": {
    "collapsed": false
   },
   "outputs": [],
   "source": [
    "X78train_adjusted = d78train.drop(['PERSON', 'RECID', 'FELON', 'PROPTY', 'MALE'], axis=1).values\n",
    "X78test_adjusted = d78test.drop(['PERSON', 'RECID', 'FELON', 'PROPTY', 'MALE'], axis=1).values\n",
    "nb_trees_adjusted = np.arange(65,90,2)\n",
    "nb_features_adjusted = np.arange(4,7)"
   ]
  },
  {
   "cell_type": "code",
   "execution_count": 18,
   "metadata": {
    "collapsed": false
   },
   "outputs": [
    {
     "name": "stdout",
     "output_type": "stream",
     "text": [
      "Wall time: 47.5 s\n"
     ]
    }
   ],
   "source": [
    "%%time\n",
    "scores_adjusted =  best_parameters(X78train_adjusted, y78train, X78test_adjusted, y78test, criterions, nb_trees_adjusted , nb_features_adjusted)"
   ]
  },
  {
   "cell_type": "code",
   "execution_count": 19,
   "metadata": {
    "collapsed": false
   },
   "outputs": [],
   "source": [
    "def relevant_features_adjusted(scores_tab, threshold = 0.98):\n",
    "    max_score = np.max(scores_tab.test_score.values)\n",
    "    print \"max score on test set is: \", max_score\n",
    "    \n",
    "    #extract entries that pass a certain threshold\n",
    "    winner = scores_tab[scores_tab.test_score > max_score * threshold]\n",
    "    \n",
    "    # features used in the selection process\n",
    "    features_list = pd.DataFrame(columns=['WHITE', 'ALCHY', 'MARRIED', 'JUNKY', 'SUPER', 'WORKREL', 'PRIORS', 'SCHOOL',\n",
    "       'RULE', 'AGE', 'TSERVD'])\n",
    "    \n",
    "    # create a dataframe with the importance coefficients for each feature\n",
    "    for i in xrange(len(winner.features_importance.values)):\n",
    "        features_list.loc[i] = winner.features_importance.values[i]\n",
    "    \n",
    "    return features_list, winner.drop('features_importance', axis=1)"
   ]
  },
  {
   "cell_type": "code",
   "execution_count": 23,
   "metadata": {
    "collapsed": false
   },
   "outputs": [
    {
     "name": "stdout",
     "output_type": "stream",
     "text": [
      "max score on test set is:  0.676046176046\n",
      "we are including in top scores  17 % of the sample\n",
      "    loss  nb_trees  nb_features  test_score  train_score\n",
      "0   gini        65            4    0.670274     0.999691\n",
      "15  gini        75            4    0.675325     0.999691\n",
      "18  gini        77            4    0.671717     0.999691\n",
      "19  gini        77            5    0.671717     0.999691\n",
      "32  gini        85            6    0.674603     0.999691\n"
     ]
    }
   ],
   "source": [
    "features_weights_adjusted, top_scorers_adjusted = relevant_features_adjusted(scores_adjusted, threshold = 0.99)\n",
    "print \"we are including in top scores \", int(len(top_scorers_adjusted) / len(scores_adjusted) * 100) , \"% of the sample\"\n",
    "print top_scorers_adjusted.head(5)"
   ]
  },
  {
   "cell_type": "code",
   "execution_count": 21,
   "metadata": {
    "collapsed": false
   },
   "outputs": [
    {
     "data": {
      "image/png": "[encoded data removed]",
      "text/plain": [
       "<matplotlib.figure.Figure at 0x1f4e99b0>"
      ]
     },
     "metadata": {},
     "output_type": "display_data"
    }
   ],
   "source": [
    "plt.title(\"number of trees for top test scorers with reduced number of features\")\n",
    "plt.hist(top_scorers_adjusted.nb_trees.values, bins=10, normed=True, color='b', alpha = 0.25)\n",
    "plt.show()"
   ]
  },
  {
   "cell_type": "code",
   "execution_count": 22,
   "metadata": {
    "collapsed": false
   },
   "outputs": [
    {
     "name": "stdout",
     "output_type": "stream",
     "text": [
      "      WHITE     ALCHY   MARRIED     JUNKY     SUPER   WORKREL    PRIORS  \\\n",
      "0  0.031557  0.025421  0.032979  0.036523  0.025268  0.034421  0.087508   \n",
      "1  0.030122  0.024756  0.031666  0.036160  0.026289  0.034675  0.081925   \n",
      "2  0.032151  0.026203  0.031973  0.035802  0.025476  0.033800  0.080804   \n",
      "3  0.032388  0.025840  0.031920  0.036071  0.025078  0.033650  0.081021   \n",
      "4  0.029979  0.027587  0.031611  0.033370  0.025676  0.034664  0.088119   \n",
      "5  0.031541  0.025909  0.031469  0.036206  0.026172  0.034432  0.085270   \n",
      "6  0.031773  0.025244  0.029330  0.033498  0.024007  0.032964  0.082314   \n",
      "7  0.031007  0.025224  0.031031  0.035957  0.025351  0.035731  0.086739   \n",
      "8  0.032369  0.025705  0.032240  0.035576  0.026392  0.034099  0.080940   \n",
      "9  0.029495  0.025496  0.031784  0.035169  0.027047  0.033461  0.088346   \n",
      "\n",
      "     SCHOOL      RULE       AGE    TSERVD  \n",
      "0  0.124062  0.075538  0.288032  0.238690  \n",
      "1  0.123118  0.071212  0.295701  0.244376  \n",
      "2  0.123912  0.070063  0.298227  0.241588  \n",
      "3  0.122100  0.071820  0.299103  0.241009  \n",
      "4  0.127122  0.072911  0.286707  0.242252  \n",
      "5  0.124996  0.071299  0.293205  0.239501  \n",
      "6  0.123968  0.072440  0.302348  0.242114  \n",
      "7  0.124106  0.070909  0.293796  0.240148  \n",
      "8  0.120928  0.070516  0.298824  0.242412  \n",
      "9  0.124262  0.075184  0.290647  0.239111  \n"
     ]
    }
   ],
   "source": [
    "print features_weights_adjusted.head(10)"
   ]
  },
  {
   "cell_type": "code",
   "execution_count": null,
   "metadata": {
    "collapsed": true
   },
   "outputs": [],
   "source": []
  }
 ],
 "metadata": {
  "kernelspec": {
   "display_name": "Python 2",
   "language": "python",
   "name": "python2"
  },
  "language_info": {
   "codemirror_mode": {
    "name": "ipython",
    "version": 2
   },
   "file_extension": ".py",
   "mimetype": "text/x-python",
   "name": "python",
   "nbconvert_exporter": "python",
   "pygments_lexer": "ipython2",
   "version": "2.7.10"
  }
 },
 "nbformat": 4,
 "nbformat_minor": 0
}
