{
 "cells": [
  {
   "cell_type": "markdown",
   "metadata": {},
   "source": [
    "# Statistics on data"
   ]
  },
  {
   "cell_type": "markdown",
   "metadata": {},
   "source": [
    "#### Data acquisition"
   ]
  },
  {
   "cell_type": "code",
   "execution_count": 1,
   "metadata": {
    "collapsed": true
   },
   "outputs": [],
   "source": [
    "%matplotlib inline\n",
    "\n",
    "import pandas as pd\n",
    "import numpy as np\n",
    "import matplotlib.pyplot as plt"
   ]
  },
  {
   "cell_type": "code",
   "execution_count": 2,
   "metadata": {
    "collapsed": true
   },
   "outputs": [],
   "source": [
    "# Get and process input data\n",
    "\n",
    "var = dict([ (1, ('WHITE',1)),(2, ('ALCHY',1)),(3, ('JUNKY',1)),(4, ('SUPER',1)),\n",
    "                (5, ('MARRIED',1)),(6, ('FELON',1)),(7, ('WORKREL',1)),(8, ('PROPTY',1)),\n",
    "                (9, ('PERSON',1)),(10, ('MALE',1)),(11, ('PRIORS',2)),(13, ('SCHOOL',2)),\n",
    "                (15, ('RULE',2)),(17, ('AGE',3)),(20, ('TSERVD',3)),\n",
    "                (23, ('FOLLOW',2)),(25, ('RECID',1)),(26, ('TIME',2)),(28, ('FILE',1)) ] )\n",
    "\n",
    "def cleanData(data):\n",
    "    res = []\n",
    "    cols = [x[1][0] for x in var.items()] # Get the column names\n",
    "    for line in data:\n",
    "        line = line.strip()\n",
    "        \n",
    "        curLine = []\n",
    "        for i in xrange(len(line)):\n",
    "            if i+1 not in var:\n",
    "                continue\n",
    "            name, sz = var[i+1]            \n",
    "            curLine.append(int(line[i:i+sz]))\n",
    "        \n",
    "        res.append(curLine)\n",
    "    \n",
    "    ret = pd.DataFrame(data=res, columns=cols)\n",
    "    ret = ret[ret.FILE != 3] # Remove incomplete data points\n",
    "    \n",
    "    # Remove some irrelevant columns\n",
    "    del ret['TIME']\n",
    "    del ret['FILE']\n",
    "    del ret['FOLLOW']\n",
    "    return ret\n",
    "    \n",
    "\n",
    "raw_1978 = open('data/1978.txt','rb').readlines()\n",
    "raw_1980 = open('data/1980.txt','rb').readlines()\n",
    "\n",
    "d1978 = cleanData(raw_1978)\n",
    "d1980 = cleanData(raw_1980)"
   ]
  },
  {
   "cell_type": "markdown",
   "metadata": {},
   "source": [
    "### Statistics on data"
   ]
  },
  {
   "cell_type": "markdown",
   "metadata": {},
   "source": [
    "#### Variables pooled"
   ]
  },
  {
   "cell_type": "code",
   "execution_count": 3,
   "metadata": {
    "collapsed": false
   },
   "outputs": [
    {
     "data": {
      "text/html": [
       "<div>\n",
       "<table border=\"1\" class=\"dataframe\">\n",
       "  <thead>\n",
       "    <tr style=\"text-align: right;\">\n",
       "      <th></th>\n",
       "      <th>WHITE</th>\n",
       "      <th>ALCHY</th>\n",
       "      <th>JUNKY</th>\n",
       "      <th>SUPER</th>\n",
       "      <th>MARRIED</th>\n",
       "      <th>FELON</th>\n",
       "      <th>WORKREL</th>\n",
       "      <th>PROPTY</th>\n",
       "      <th>PERSON</th>\n",
       "      <th>MALE</th>\n",
       "      <th>PRIORS</th>\n",
       "      <th>SCHOOL</th>\n",
       "      <th>RULE</th>\n",
       "      <th>AGE</th>\n",
       "      <th>TSERVD</th>\n",
       "      <th>RECID</th>\n",
       "    </tr>\n",
       "  </thead>\n",
       "  <tbody>\n",
       "    <tr>\n",
       "      <th>2</th>\n",
       "      <td>1</td>\n",
       "      <td>1</td>\n",
       "      <td>0</td>\n",
       "      <td>1</td>\n",
       "      <td>1</td>\n",
       "      <td>0</td>\n",
       "      <td>1</td>\n",
       "      <td>0</td>\n",
       "      <td>0</td>\n",
       "      <td>1</td>\n",
       "      <td>0</td>\n",
       "      <td>7</td>\n",
       "      <td>2</td>\n",
       "      <td>441</td>\n",
       "      <td>30</td>\n",
       "      <td>0</td>\n",
       "    </tr>\n",
       "    <tr>\n",
       "      <th>3</th>\n",
       "      <td>1</td>\n",
       "      <td>0</td>\n",
       "      <td>0</td>\n",
       "      <td>1</td>\n",
       "      <td>1</td>\n",
       "      <td>0</td>\n",
       "      <td>0</td>\n",
       "      <td>0</td>\n",
       "      <td>0</td>\n",
       "      <td>1</td>\n",
       "      <td>0</td>\n",
       "      <td>11</td>\n",
       "      <td>0</td>\n",
       "      <td>303</td>\n",
       "      <td>4</td>\n",
       "      <td>0</td>\n",
       "    </tr>\n",
       "    <tr>\n",
       "      <th>6</th>\n",
       "      <td>1</td>\n",
       "      <td>0</td>\n",
       "      <td>0</td>\n",
       "      <td>1</td>\n",
       "      <td>0</td>\n",
       "      <td>0</td>\n",
       "      <td>1</td>\n",
       "      <td>0</td>\n",
       "      <td>0</td>\n",
       "      <td>1</td>\n",
       "      <td>1</td>\n",
       "      <td>9</td>\n",
       "      <td>1</td>\n",
       "      <td>276</td>\n",
       "      <td>43</td>\n",
       "      <td>1</td>\n",
       "    </tr>\n",
       "    <tr>\n",
       "      <th>10</th>\n",
       "      <td>1</td>\n",
       "      <td>0</td>\n",
       "      <td>0</td>\n",
       "      <td>0</td>\n",
       "      <td>0</td>\n",
       "      <td>0</td>\n",
       "      <td>1</td>\n",
       "      <td>0</td>\n",
       "      <td>0</td>\n",
       "      <td>0</td>\n",
       "      <td>0</td>\n",
       "      <td>14</td>\n",
       "      <td>0</td>\n",
       "      <td>329</td>\n",
       "      <td>9</td>\n",
       "      <td>0</td>\n",
       "    </tr>\n",
       "    <tr>\n",
       "      <th>11</th>\n",
       "      <td>0</td>\n",
       "      <td>0</td>\n",
       "      <td>0</td>\n",
       "      <td>0</td>\n",
       "      <td>0</td>\n",
       "      <td>1</td>\n",
       "      <td>0</td>\n",
       "      <td>0</td>\n",
       "      <td>0</td>\n",
       "      <td>1</td>\n",
       "      <td>0</td>\n",
       "      <td>10</td>\n",
       "      <td>0</td>\n",
       "      <td>277</td>\n",
       "      <td>8</td>\n",
       "      <td>0</td>\n",
       "    </tr>\n",
       "  </tbody>\n",
       "</table>\n",
       "</div>"
      ],
      "text/plain": [
       "    WHITE  ALCHY  JUNKY  SUPER  MARRIED  FELON  WORKREL  PROPTY  PERSON  MALE  \\\n",
       "2       1      1      0      1        1      0        1       0       0     1   \n",
       "3       1      0      0      1        1      0        0       0       0     1   \n",
       "6       1      0      0      1        0      0        1       0       0     1   \n",
       "10      1      0      0      0        0      0        1       0       0     0   \n",
       "11      0      0      0      0        0      1        0       0       0     1   \n",
       "\n",
       "    PRIORS  SCHOOL  RULE  AGE  TSERVD  RECID  \n",
       "2        0       7     2  441      30      0  \n",
       "3        0      11     0  303       4      0  \n",
       "6        1       9     1  276      43      1  \n",
       "10       0      14     0  329       9      0  \n",
       "11       0      10     0  277       8      0  "
      ]
     },
     "execution_count": 3,
     "metadata": {},
     "output_type": "execute_result"
    }
   ],
   "source": [
    "d1978.head(5)"
   ]
  },
  {
   "cell_type": "code",
   "execution_count": 4,
   "metadata": {
    "collapsed": false
   },
   "outputs": [],
   "source": [
    "def partition_age(data, age_range):\n",
    "    for i in xrange(len(data)):\n",
    "        data.iloc[i].AGE /= age_range\n",
    "    return\n",
    "\n",
    "def partition_time_served(data, time_served_range):\n",
    "    for i in xrange(len(data)):\n",
    "        data.iloc[i].TSERVD /= time_served_range  \n",
    "    return\n",
    "\n",
    "def partition_school(data, school_range):\n",
    "    for i in xrange(len(data)):\n",
    "        data.iloc[i].SCHOOL /= time_served_range  \n",
    "    return"
   ]
  },
  {
   "cell_type": "code",
   "execution_count": 5,
   "metadata": {
    "collapsed": false
   },
   "outputs": [],
   "source": [
    "age_range = 36\n",
    "time_served_range = 5\n",
    "school_range = 4\n",
    "d1978 = cleanData(raw_1978)"
   ]
  },
  {
   "cell_type": "code",
   "execution_count": 6,
   "metadata": {
    "collapsed": false
   },
   "outputs": [
    {
     "name": "stdout",
     "output_type": "stream",
     "text": [
      "    WHITE  ALCHY  JUNKY  SUPER  MARRIED  FELON  WORKREL  PROPTY  PERSON  MALE  \\\n",
      "2       1      1      0      1        1      0        1       0       0     1   \n",
      "3       1      0      0      1        1      0        0       0       0     1   \n",
      "6       1      0      0      1        0      0        1       0       0     1   \n",
      "10      1      0      0      0        0      0        1       0       0     0   \n",
      "11      0      0      0      0        0      1        0       0       0     1   \n",
      "\n",
      "    PRIORS  SCHOOL  RULE  AGE  TSERVD  RECID  \n",
      "2        0       1     2   44       7      0  \n",
      "3        0       2     0   30       1      0  \n",
      "6        1       2     1   27      10      1  \n",
      "10       0       3     0   32       2      0  \n",
      "11       0       2     0   27       2      0  \n"
     ]
    }
   ],
   "source": [
    "partition_age(d1978, age_range)\n",
    "partition_time_served(d1978, time_served_range)\n",
    "partition_school(d1978, school_range)\n",
    "print d1978.head(5)"
   ]
  },
  {
   "cell_type": "markdown",
   "metadata": {},
   "source": [
    "#### find unqiue elements in array of arrays"
   ]
  },
  {
   "cell_type": "code",
   "execution_count": 8,
   "metadata": {
    "collapsed": true
   },
   "outputs": [],
   "source": [
    "from random import randint\n",
    "\n",
    "def foo():\n",
    "    res = []\n",
    "    for x in xrange(4):\n",
    "        res.append(randint(1,4))\n",
    "    return res\n",
    "\n",
    "def bar():\n",
    "    res = []\n",
    "    for x in xrange(2000):\n",
    "        res.append(foo())\n",
    "    return res"
   ]
  },
  {
   "cell_type": "code",
   "execution_count": null,
   "metadata": {
    "collapsed": false
   },
   "outputs": [],
   "source": [
    "u = bar()\n",
    "v = find_unique(u)\n",
    "print \"before find_unique, nb of elements: \", len(u)\n",
    "print \"after find_unique, nb of elements: \", len(v)"
   ]
  },
  {
   "cell_type": "markdown",
   "metadata": {},
   "source": [
    "#### similarity"
   ]
  },
  {
   "cell_type": "code",
   "execution_count": 43,
   "metadata": {
    "collapsed": false
   },
   "outputs": [],
   "source": [
    "def find_unique(array):\n",
    "    res = []\n",
    "    for ar in array:\n",
    "        check = True\n",
    "        for br in res:\n",
    "            check = check & (~(np.array(ar == br).all()))\n",
    "        if check:\n",
    "            res.append(ar)\n",
    "    return res"
   ]
  },
  {
   "cell_type": "code",
   "execution_count": 54,
   "metadata": {
    "collapsed": false
   },
   "outputs": [],
   "source": [
    "def similarity(data, age_range, time_served_range):\n",
    "    partition_age(data, age_range)\n",
    "    partition_time_served(data, time_served_range)\n",
    "    partition_school(data, school_range)\n",
    "    \n",
    "    tab = data.as_matrix()\n",
    "    sim_data = find_unique(tab)\n",
    "    n_data = len(tab)\n",
    "    nb_sim = len(tab) - len(sim_data)\n",
    "    \n",
    "    print \"number of data points: \", n_data\n",
    "    print \"number of similar data points: \", nb_sim\n",
    "    print \"portion of similar data points: \", (float(nb_sim) / n_data * 100), '%'\n",
    "    \n",
    "    return"
   ]
  },
  {
   "cell_type": "code",
   "execution_count": 65,
   "metadata": {
    "collapsed": false
   },
   "outputs": [
    {
     "name": "stdout",
     "output_type": "stream",
     "text": [
      "number of data points:  4618\n",
      "number of similar data points:  734\n",
      "portion of similar data points:  15.8943265483 %\n",
      "Wall time: 1min 39s\n"
     ]
    }
   ],
   "source": [
    "%%time\n",
    "age_range = 60\n",
    "time_served_range = 5\n",
    "school_range = 4\n",
    "d1978 = cleanData(raw_1978)\n",
    "similarity(d1978.drop('RECID', axis = 1), age_range, time_served_range)"
   ]
  },
  {
   "cell_type": "code",
   "execution_count": 66,
   "metadata": {
    "collapsed": false
   },
   "outputs": [
    {
     "name": "stdout",
     "output_type": "stream",
     "text": [
      "number of data points:  4618\n",
      "number of similar data points:  905\n",
      "portion of similar data points:  19.5972282373 %\n",
      "Wall time: 1min 43s\n"
     ]
    }
   ],
   "source": [
    "%%time\n",
    "age_range = 120\n",
    "time_served_range = 5\n",
    "school_range = 4\n",
    "d1978 = cleanData(raw_1978)\n",
    "similarity(d1978.drop('RECID', axis = 1), age_range, time_served_range)"
   ]
  },
  {
   "cell_type": "code",
   "execution_count": null,
   "metadata": {
    "collapsed": true
   },
   "outputs": [],
   "source": []
  }
 ],
 "metadata": {
  "kernelspec": {
   "display_name": "Python 2",
   "language": "python",
   "name": "python2"
  },
  "language_info": {
   "codemirror_mode": {
    "name": "ipython",
    "version": 2
   },
   "file_extension": ".py",
   "mimetype": "text/x-python",
   "name": "python",
   "nbconvert_exporter": "python",
   "pygments_lexer": "ipython2",
   "version": "2.7.10"
  }
 },
 "nbformat": 4,
 "nbformat_minor": 0
}
